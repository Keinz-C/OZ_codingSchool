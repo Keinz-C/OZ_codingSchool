{
 "cells": [
  {
   "cell_type": "markdown",
   "metadata": {},
   "source": [
    "### [쿼리 최적화하기]\n",
    "\n",
    "##### [도서관에서 책찾기]\n",
    "\n",
    "1. 듀이 십진분류법의 도움을 받아 책의 위치를 특정\n",
    "2. 청구기호 검색 (책이 가진 고유 기호를 받는다. ex> 325-23.44.55)\n",
    "3. 책장 찾기 - 300번 320번 등\n",
    "4. 해당하는 책장에서 책 찾기  \n",
    "\t< 트리 자료 구조 >\n",
    "\t- 국립중앙도서관 - 3xx - 32x - 325\n",
    "\n",
    "##### brute force\n",
    "- 000번 책장부터 999책장까지\n",
    "\t- 책장의 모든 책 훑기  \n",
    "\t\t-> 1000 + 12,000,000번의 탐색(비효율적\n",
    "- 듀이 십진분류법\n",
    "\t- 3xx\n",
    "\t- 32x\n",
    "\t- 325\n",
    "\t\t- 책장에서 책 찾기  \n",
    "\t\t-> 3 * (1 ~ 10) + (1 ~ 100) 번의 탐색 (최소 4번 ~ 최대 400번)"
   ]
  },
  {
   "cell_type": "markdown",
   "metadata": {},
   "source": [
    "### [책 제목으로 도서검색]\n",
    "1. brute force -> 책 제목, 저자 등에 index가 걸려있지 않은 경우\n",
    "\t- 일일이 모든 책장을 뒤져가며 모든 책을 비교해야 하기에 비효율적\n",
    "\n",
    "2. 인덱스 (= 듀이 십진분류법)\n",
    "- 트리 형태로 데이터를 분류함\n",
    "\t1. 청구번호 대신 제목\n",
    "\t\t- 책 제목들에 인덱스를 생성해서 DB상에 트리형태로 걸려있다고 가정\n",
    "\t2. 트리 구조\n",
    "\t\t- 'title'을 사전순 정렬\n",
    "\t\t- '개': a시간 / '개발': b시간 / '개발자': c시간  \n",
    "\t\t\t-> a + b + c 번의 탐색\n",
    "\t3. 비효율적인 트리 모양\n",
    "\t\t- 개발자 전문 서점\n",
    "\t\t\t- '개발의'로 시작하는 장서까지 검색해야 되기 때문에 브루트 포스랑 성능상 차이가 크지 않음.\n",
    "\t\t- 항상 균현 상태 유지가 필요\n",
    "\t\t\t- 자가 균형 트리\n",
    "\t\t\t- 임의의 기준에 따라 나뉘게 되는데, 그 기준에 따라 노드가 항상 균형을 이룰 수 있도록 유지하는 트리\n",
    "\t\t\t- AVL tree\n",
    "\t\t\t- red-black tree (조금 더 효율적이기에 많이 사용되는 트리 형태)\n"
   ]
  },
  {
   "cell_type": "markdown",
   "metadata": {},
   "source": [
    "### [인덱스의 종류]\n",
    "\n",
    "1. B tree 인덱스\n",
    "\t- 자가 균형 트리의 일종이다.\n",
    "2. hash 인덱스\n",
    "\t- B tree 인덱스보다 처리 속도가 빠르다\n",
    "3. 공간 인덱스\n",
    "\t- 쿼리 값에 공간 값이 들어갈 때 사용한다.\n",
    "\t- 주로 altree라는 구조를 많이 쓴다.\n",
    "\n",
    "### [추가적인 인덱스 종류]\n",
    "\n",
    "1. 단일 컬럼 인덱스\n",
    "\t```\n",
    "\tSELECT *\n",
    "\tFROM books\n",
    "\tWHERE title = '개발자가 되고 싶습니다';\n",
    "\t```\n",
    "2. 복수 컬럼 인덱스\n",
    "\t```\n",
    "\tSELECT *\n",
    "\tFROM books\n",
    "\tWHERE title = '개발자가 되고 싶습니다'\n",
    "\tAND publication_data = '2024';\n",
    "\t```"
   ]
  },
  {
   "cell_type": "code",
   "execution_count": 1,
   "metadata": {},
   "outputs": [
    {
     "name": "stdout",
     "output_type": "stream",
     "text": [
      "리스트 생성 시작\n"
     ]
    },
    {
     "ename": "KeyboardInterrupt",
     "evalue": "",
     "output_type": "error",
     "traceback": [
      "\u001b[0;31m---------------------------------------------------------------------------\u001b[0m",
      "\u001b[0;31mKeyboardInterrupt\u001b[0m                         Traceback (most recent call last)",
      "Cell \u001b[0;32mIn[1], line 9\u001b[0m\n\u001b[1;32m      7\u001b[0m \u001b[38;5;28mprint\u001b[39m(\u001b[38;5;124m\"\u001b[39m\u001b[38;5;124m리스트 생성 시작\u001b[39m\u001b[38;5;124m\"\u001b[39m)\n\u001b[1;32m      8\u001b[0m start_time_list \u001b[38;5;241m=\u001b[39m timeit\u001b[38;5;241m.\u001b[39mdefault_timer()\t\u001b[38;5;66;03m# 시간 측정하는 방법 내장 패키지 라이브러리\u001b[39;00m\n\u001b[0;32m----> 9\u001b[0m data_list \u001b[38;5;241m=\u001b[39m \u001b[38;5;28;43mlist\u001b[39;49m\u001b[43m(\u001b[49m\u001b[38;5;28;43mrange\u001b[39;49m\u001b[43m(\u001b[49m\u001b[38;5;241;43m1\u001b[39;49m\u001b[43m,\u001b[49m\u001b[43m \u001b[49m\u001b[38;5;241;43m320_000_001\u001b[39;49m\u001b[43m)\u001b[49m\u001b[43m)\u001b[49m\t\t\u001b[38;5;66;03m# range는 첫번째 인자부터 두번째 인자까지 사이의 숫자를 반환해준다. 첫 번재 인자는 포함되고 두번째 인자는 포함되지 않는다.\u001b[39;00m\n\u001b[1;32m     10\u001b[0m end_time_list \u001b[38;5;241m=\u001b[39m timeit\u001b[38;5;241m.\u001b[39mdefault_timer()\n\u001b[1;32m     11\u001b[0m time_setup_list \u001b[38;5;241m=\u001b[39m end_time_list \u001b[38;5;241m-\u001b[39m start_time_list\t\u001b[38;5;66;03m# 최종 리스트 생성 시간을 확인하기 위해 끝난 시간에서 시작 시간을 빼준다.\u001b[39;00m\n",
      "\u001b[0;31mKeyboardInterrupt\u001b[0m: "
     ]
    }
   ],
   "source": [
    "import timeit\n",
    "from sortedcontainers import SortedList\n",
    "\n",
    "# list에 index가 없는 상황에서 brute force방식으로 탐색\n",
    "# 데이터 삽입(DB에서는 INSERT와 동일)\n",
    "\n",
    "print(\"리스트 생성 시작\")\n",
    "start_time_list = timeit.default_timer()\t# 시간 측정하는 방법 내장 패키지 라이브러리\n",
    "data_list = list(range(1, 320_000_001))\t\t# range는 첫번째 인자부터 두번째 인자까지 사이의 숫자를 반환해준다. 첫 번재 인자는 포함되고 두번째 인자는 포함되지 않는다.\n",
    "end_time_list = timeit.default_timer()\n",
    "time_setup_list = end_time_list - start_time_list\t# 최종 리스트 생성 시간을 확인하기 위해 끝난 시간에서 시작 시간을 빼준다.\n",
    "print(f'리스트 생성 소요 시간: {time_setup_list:.6f} sec')\n",
    "\n",
    "\n",
    "# tree(자가 균형 트리)로 index가 있는 상황에서 tree search를 통해 탐색\n",
    "# 데이터 삽입(DB에서는 INSERT와 동일)\n",
    "print(\"리스트 생성 시작\")\n",
    "start_time_tree = timeit.default_timer()\n",
    "data_tree = SortedList(list(range(1, 320_000_001)))\t\n",
    "end_time_tree = timeit.default_timer()\n",
    "time_setup_tree = end_time_tree - start_time_tree\n",
    "print(f'트리 생성 소요 시간: {time_setup_tree:.6f} sec')\n",
    "\n",
    "\n",
    "# 데이터 조회 (DB상 SELECT)\n",
    "# list를 통한 탐색\n",
    "def fetch_from_list(target):\t# target : 찾고자 하는 책\n",
    "    for data in data_list:\t\t# brute force방식이라서 for문을 사용하여 리스트 안의 값을 하나하나 조회하도록 사용\n",
    "        if data == target:\n",
    "            return data_list[target]\t# target과 data(list)가 일치하면 값을 반환\n",
    "        \n",
    "\n",
    "#tree를 통한 탐색\n",
    "def fetch_from_tree(target):\n",
    "    return data_tree[target]\t# tree search 방식\n",
    "\n",
    "\n",
    "# 함수를 호출하여 조회\n",
    "# target 할당\n",
    "target = 160_000_000\n",
    "\n",
    "# List 조회\n",
    "print(\"리스트 조회 시작\")\n",
    "time_list = timeit.default_timer()\n",
    "fetch_from_list(target)\t\t# target을 list조회용 함수에 호출\n",
    "end_time_list = timeit.default_timer()\t# 호출이 완료되면 조회에 사용한 시간 표시\n",
    "time_fetch_list = end_time_list - start_time_list\n",
    "print(f'리스트 조회 소요 시간: {time_fetch_list:.6f} sec')\n",
    "\n",
    "\n",
    "# tree 조회\n",
    "print(\"트리 조회 시작\")\n",
    "start_time_tree = timeit.default_timer()\n",
    "fetch_from_tree(target)\n",
    "end_time_tree = timeit.default_timer()\n",
    "time_fetch_tree = end_time_list - start_time_list\n",
    "print(f'트리 조회 소요 시간: {time_fetch_tree:.6f} sec')"
   ]
  },
  {
   "cell_type": "code",
   "execution_count": null,
   "metadata": {},
   "outputs": [],
   "source": [
    "()"
   ]
  }
 ],
 "metadata": {
  "kernelspec": {
   "display_name": "Python 3",
   "language": "python",
   "name": "python3"
  },
  "language_info": {
   "codemirror_mode": {
    "name": "ipython",
    "version": 3
   },
   "file_extension": ".py",
   "mimetype": "text/x-python",
   "name": "python",
   "nbconvert_exporter": "python",
   "pygments_lexer": "ipython3",
   "version": "3.9.6"
  }
 },
 "nbformat": 4,
 "nbformat_minor": 2
}
