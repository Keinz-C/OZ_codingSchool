{
 "cells": [
  {
   "cell_type": "code",
   "execution_count": 6,
   "metadata": {},
   "outputs": [
    {
     "name": "stdout",
     "output_type": "stream",
     "text": [
      "2\n"
     ]
    }
   ],
   "source": [
    "def find_drinker(N, M, hands):\n",
    "    # 모든 손의 높이와 주인을 저장\n",
    "    all_hands = []\n",
    "    for i in range(M):\n",
    "        all_hands.append((hands[i][0], i))\n",
    "        all_hands.append((hands[i][1], i))\n",
    "        #0,0 - 0, 0(첫번째 손), 0\n",
    "        #0,1 - (두번째손), 0 - 뒤숫자 - 참가자 번호\n",
    "\n",
    "    #[1,6], [3,4], [2,5]\n",
    "\n",
    "    #all_hands = [[1,0] - 첫번째참가자의 첫번째손, [6,0]-첫번째참가자의 두번째손, [3,1]-두번째 참가자의 첫번째손, [4,1]-두번째참가자의 두번째손, [2,2] [5,2]]\n",
    "\n",
    "\n",
    "        #1,0 , 1\n",
    "        #1,1 , 1\n",
    "        #2,0 , 2\n",
    "        #2,1 , 2\n",
    "        # .....\n",
    "    \n",
    "    # 손 높이 순으로 정렬\n",
    "    all_hands.sort()\n",
    "    \n",
    "    # N번 반복\n",
    "    for _ in range(N):\n",
    "        # 가장 낮은 손을 제거\n",
    "        all_hands.append(all_hands.pop(0))\n",
    "    \n",
    "    # 마지막 손의 주인 반환\n",
    "    return all_hands[-1][1] + 1  # 참가자 번호는 1부터 시작하므로 1을 더함\n",
    "\n",
    "# 입력 받기\n",
    "while True:\n",
    "    N, M = map(int, input(\"N, M: \").split())\n",
    "    if 1 <= N <= 1000 and 1 <= M <= 1000:\n",
    "        break\n",
    "    else:\n",
    "        print(\"Out of range. Please enter values between 1 and 1000.\")\n",
    "\n",
    "def validate_hand_height(height):\n",
    "    return 1 <= height <= 10000\n",
    "\n",
    "hands = []\n",
    "for i in range(M):\n",
    "    while True:\n",
    "        try:\n",
    "            hand_input = input(f\"참가자 {i+1}의 H1, H2: \")\n",
    "            h1, h2 = map(int, hand_input.split())\n",
    "            if validate_hand_height(h1) and validate_hand_height(h2):\n",
    "                hands.append([h1, h2])\n",
    "                break\n",
    "            else:\n",
    "                print(\"손의 높이는 1 이상 10000 이하여야 합니다. 다시 입력해주세요.\")\n",
    "        except ValueError:\n",
    "            print(\"잘못된 값.\")\n",
    "\n",
    "print(find_drinker(N, M, hands))"
   ]
  }
 ],
 "metadata": {
  "kernelspec": {
   "display_name": "Python 3",
   "language": "python",
   "name": "python3"
  },
  "language_info": {
   "codemirror_mode": {
    "name": "ipython",
    "version": 3
   },
   "file_extension": ".py",
   "mimetype": "text/x-python",
   "name": "python",
   "nbconvert_exporter": "python",
   "pygments_lexer": "ipython3",
   "version": "3.9.6"
  }
 },
 "nbformat": 4,
 "nbformat_minor": 2
}
