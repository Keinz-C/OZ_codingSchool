{
 "cells": [
  {
   "cell_type": "code",
   "execution_count": 6,
   "metadata": {},
   "outputs": [
    {
     "name": "stdout",
     "output_type": "stream",
     "text": [
      "현재 재고는 팥붕어빵 10개, 슈크림붕어빵 8개, 초코붕어빵 8개 입니다.\n"
     ]
    }
   ],
   "source": [
    "# 붕어빵 재고 딕셔너리\n",
    "재고 = {\"팥붕어빵\": 10, \"슈크림붕어빵\": 8, \"초코붕어빵\": 8}\n",
    "\n",
    "print(f'현재 재고는 팥붕어빵 {재고[\"팥붕어빵\"]}개, 슈크림붕어빵 {재고[\"슈크림붕어빵\"]}개, 초코붕어빵 {재고[\"초코붕어빵\"]}개 입니다.')"
   ]
  },
  {
   "cell_type": "code",
   "execution_count": 20,
   "metadata": {},
   "outputs": [
    {
     "name": "stdout",
     "output_type": "stream",
     "text": [
      "총 주문하신 붕어빵은, {'팥붕어빵': 4}개 입니다.\n"
     ]
    },
    {
     "ename": "KeyError",
     "evalue": "4",
     "output_type": "error",
     "traceback": [
      "\u001b[0;31m---------------------------------------------------------------------------\u001b[0m",
      "\u001b[0;31mKeyError\u001b[0m                                  Traceback (most recent call last)",
      "Cell \u001b[0;32mIn[20], line 11\u001b[0m\n\u001b[1;32m      9\u001b[0m \u001b[38;5;28;01mwhile\u001b[39;00m \u001b[38;5;28;01mTrue\u001b[39;00m:\n\u001b[1;32m     10\u001b[0m   \u001b[38;5;28;01mif\u001b[39;00m 재고[order_name] \u001b[38;5;241m>\u001b[39m\u001b[38;5;241m=\u001b[39m order[order_name]:\n\u001b[0;32m---> 11\u001b[0m     재고[order_name] \u001b[38;5;241m=\u001b[39m \u001b[43m재고\u001b[49m\u001b[43m[\u001b[49m\u001b[43morder_values\u001b[49m\u001b[43m]\u001b[49m \u001b[38;5;241m-\u001b[39m order[order_values]\n\u001b[1;32m     12\u001b[0m     \u001b[38;5;28mprint\u001b[39m(\u001b[38;5;124mf\u001b[39m\u001b[38;5;124m'\u001b[39m\u001b[38;5;132;01m{\u001b[39;00morder_name\u001b[38;5;132;01m}\u001b[39;00m\u001b[38;5;124m \u001b[39m\u001b[38;5;132;01m{\u001b[39;00morder_values\u001b[38;5;132;01m}\u001b[39;00m\u001b[38;5;124m개를 판매했습니다.\u001b[39m\u001b[38;5;124m'\u001b[39m)\n\u001b[1;32m     13\u001b[0m   \u001b[38;5;28;01melif\u001b[39;00m 재고[order_name] \u001b[38;5;241m>\u001b[39m\u001b[38;5;241m=\u001b[39m \u001b[38;5;241m0\u001b[39m:\n",
      "\u001b[0;31mKeyError\u001b[0m: 4"
     ]
    }
   ],
   "source": [
    "order = {}\n",
    "\n",
    "order_name = input(\"구매하실 붕어빵의 종류를 띄어쓰기 없이 작성해주세요.\")\n",
    "order_values = int(input(\"구매하실 붕어빵의 갯수를 작성해주세요.\"))\n",
    "\n",
    "order[order_name] = order_values\n",
    "print(f'총 주문하신 붕어빵은, {order}개 입니다.')"
   ]
  },
  {
   "cell_type": "code",
   "execution_count": 19,
   "metadata": {},
   "outputs": [
    {
     "ename": "KeyError",
     "evalue": "1",
     "output_type": "error",
     "traceback": [
      "\u001b[0;31m---------------------------------------------------------------------------\u001b[0m",
      "\u001b[0;31mKeyError\u001b[0m                                  Traceback (most recent call last)",
      "Cell \u001b[0;32mIn[19], line 5\u001b[0m\n\u001b[1;32m      3\u001b[0m \u001b[38;5;28;01mwhile\u001b[39;00m \u001b[38;5;28;01mTrue\u001b[39;00m:\n\u001b[1;32m      4\u001b[0m   \u001b[38;5;28;01mif\u001b[39;00m 재고[order_name] \u001b[38;5;241m>\u001b[39m\u001b[38;5;241m=\u001b[39m order[order_name]:\n\u001b[0;32m----> 5\u001b[0m     재고[order_name] \u001b[38;5;241m=\u001b[39m \u001b[43m재고\u001b[49m\u001b[43m[\u001b[49m\u001b[43morder_values\u001b[49m\u001b[43m]\u001b[49m \u001b[38;5;241m-\u001b[39m order[order_values]\n\u001b[1;32m      6\u001b[0m     \u001b[38;5;28mprint\u001b[39m(\u001b[38;5;124mf\u001b[39m\u001b[38;5;124m'\u001b[39m\u001b[38;5;132;01m{\u001b[39;00morder_name\u001b[38;5;132;01m}\u001b[39;00m\u001b[38;5;124m \u001b[39m\u001b[38;5;132;01m{\u001b[39;00morder_values\u001b[38;5;132;01m}\u001b[39;00m\u001b[38;5;124m개를 판매했습니다.\u001b[39m\u001b[38;5;124m'\u001b[39m)\n\u001b[1;32m      7\u001b[0m   \u001b[38;5;28;01melif\u001b[39;00m 재고[order_name] \u001b[38;5;241m>\u001b[39m\u001b[38;5;241m=\u001b[39m \u001b[38;5;241m0\u001b[39m:\n",
      "\u001b[0;31mKeyError\u001b[0m: 1"
     ]
    }
   ],
   "source": [
    "# 우선 재고 파악\n",
    "\n",
    "while True:\n",
    "  if 재고[order_name] >= order[order_name]:\n",
    "    재고[order_name] = 재고[order_values] - order[order_values]\n",
    "    print(f'{order_name} {order_values}개를 판매했습니다.')\n",
    "  elif 재고[order_name] >= 0:\n",
    "    print(\"추가로 주문하실 붕어빵의 맛과 갯수를 입력해주세요.\")\n",
    "  elif order_name == exit:\n",
    "    print(\"주문을 종료합니다.\")\n",
    "  else:\n",
    "    print(\"상품의 재고가 부족합니다.\")  "
   ]
  },
  {
   "cell_type": "code",
   "execution_count": null,
   "metadata": {},
   "outputs": [],
   "source": [
    "while True:\n",
    "  if order_name == \"exit\":\n",
    "    print(\"주문을 종료합니다.\")\n",
    "    break\n",
    "  order_name = int(input(\"구매하실 붕어빵의 갯수를 작성해주세요.\"))\n",
    "  if 재고[order_name] >= order[order_name]:\n",
    "    재고[order_name] = 재고[order_values] - order[order_values]\n",
    "    print(f'{order_name} {order_values}개를 판매했습니다.')\n",
    "  else:\n",
    "    print(\"상품의 재고가 부족합니다.\")"
   ]
  },
  {
   "cell_type": "code",
   "execution_count": 2,
   "metadata": {},
   "outputs": [
    {
     "ename": "NameError",
     "evalue": "name '재고' is not defined",
     "output_type": "error",
     "traceback": [
      "\u001b[0;31m---------------------------------------------------------------------------\u001b[0m",
      "\u001b[0;31mNameError\u001b[0m                                 Traceback (most recent call last)",
      "Cell \u001b[0;32mIn[2], line 7\u001b[0m\n\u001b[1;32m      4\u001b[0m   \u001b[38;5;28;01mbreak\u001b[39;00m\n\u001b[1;32m      6\u001b[0m addin_재고 \u001b[38;5;241m=\u001b[39m \u001b[38;5;28mmap\u001b[39m(\u001b[38;5;28mint\u001b[39m, \u001b[38;5;28minput\u001b[39m(\u001b[38;5;124mf\u001b[39m\u001b[38;5;124m'\u001b[39m\u001b[38;5;132;01m{\u001b[39;00morder_name\u001b[38;5;132;01m}\u001b[39;00m\u001b[38;5;124m의 추가할 개수를 입력하세요.\u001b[39m\u001b[38;5;124m'\u001b[39m))\n\u001b[0;32m----> 7\u001b[0m \u001b[43m재고\u001b[49m[order_name] \u001b[38;5;241m+\u001b[39m\u001b[38;5;241m=\u001b[39m addin_재고\n\u001b[1;32m      8\u001b[0m \u001b[38;5;28mprint\u001b[39m(\u001b[38;5;124mf\u001b[39m\u001b[38;5;124m'\u001b[39m\u001b[38;5;132;01m{\u001b[39;00morder_name\u001b[38;5;132;01m}\u001b[39;00m\u001b[38;5;124m의 재고는 \u001b[39m\u001b[38;5;132;01m{\u001b[39;00maddin_재고\u001b[38;5;132;01m}\u001b[39;00m\u001b[38;5;124m개 추가되었습니다.\u001b[39m\u001b[38;5;124m'\u001b[39m)\n\u001b[1;32m      9\u001b[0m \u001b[38;5;28mprint\u001b[39m(\u001b[38;5;124m\"\u001b[39m\u001b[38;5;124m현재 남은 재고는 아래와 같습니다.\u001b[39m\u001b[38;5;124m\"\u001b[39m)\n",
      "\u001b[0;31mNameError\u001b[0m: name '재고' is not defined"
     ]
    }
   ],
   "source": [
    "while True:\n",
    "  order_name = input('추가할 불어빵 종류를 입력하세요. (팥붕어빵, 슈크림붕어빵, 초코붕어빵), 종료를 원하시면 \"exit\"를 입력해주세요.')\n",
    "  if order_name == \"exit\":\n",
    "    break\n",
    "\n",
    "  addin_재고 = map(int, input(f'{order_name}의 추가할 개수를 입력하세요.'))\n",
    "  재고[order_name] += addin_재고\n",
    "  print(f'{order_name}의 재고는 {addin_재고}개 추가되었습니다.')\n",
    "  print(\"현재 남은 재고는 아래와 같습니다.\")\n",
    "  for type, count in 재고.items(): # items메서드를 사용해야 dict의 정확한 키와 밸류값을 반환한다.\n",
    "    print(f\"{order_name} : {order_values}\")"
   ]
  },
  {
   "cell_type": "code",
   "execution_count": 3,
   "metadata": {},
   "outputs": [
    {
     "name": "stdout",
     "output_type": "stream",
     "text": [
      "총 매출: 0입니다.\n",
      "총 매출: 0입니다.\n",
      "총 매출: 0입니다.\n"
     ]
    }
   ],
   "source": [
    "prices = {\n",
    "  \"팥붕어빵\" : 1000,\n",
    "  \"슈크림붕어빵\" : 1200,\n",
    "  \"초코붕어빵\" : 1500\n",
    "}\n",
    "\n",
    "sales = {         # 금일 팔린 붕어빵에 대해서 값을 받아야 하기 때문에 0으로 초기화한다.\n",
    "  \"팥붕어빵\" : 0,\n",
    "  \"슈크림붕어빵\" : 0,\n",
    "  \"초코붕어빵\" : 0\n",
    "}\n",
    "\n",
    "total_sales = 0\n",
    "for order in sales:\n",
    "  total_sales += sales[order] * prices[order]\n",
    "  print(f\"총 매출: {total_sales}입니다.\")"
   ]
  }
 ],
 "metadata": {
  "kernelspec": {
   "display_name": "Python 3",
   "language": "python",
   "name": "python3"
  },
  "language_info": {
   "codemirror_mode": {
    "name": "ipython",
    "version": 3
   },
   "file_extension": ".py",
   "mimetype": "text/x-python",
   "name": "python",
   "nbconvert_exporter": "python",
   "pygments_lexer": "ipython3",
   "version": "3.9.6"
  }
 },
 "nbformat": 4,
 "nbformat_minor": 2
}
