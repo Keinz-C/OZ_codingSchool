{
 "cells": [
  {
   "cell_type": "code",
   "execution_count": 3,
   "metadata": {},
   "outputs": [
    {
     "name": "stdout",
     "output_type": "stream",
     "text": [
      "min의 총 점수는, 250점 입니다.\n",
      "hun의 총 점수는, 250점 입니다.\n",
      "jung의 총 점수는, 225점 입니다.\n"
     ]
    }
   ],
   "source": [
    "k_1 = 80\n",
    "e_1 = 78\n",
    "m_1 = 92\n",
    "total_min = k_1 + e_1 + m_1\n",
    "print('min의 총 점수는, {0}점 입니다.'.format(total_min))\n",
    "\n",
    "k_2 = 90\n",
    "e_2 = 88\n",
    "m_2 = 72\n",
    "total_hun = k_2 + e_2 + m_2\n",
    "print('hun의 총 점수는, {0}점 입니다.'.format(total_hun))\n",
    "\n",
    "k_3 = 69\n",
    "e_3 = 77\n",
    "m_3 = 79\n",
    "total_jung = k_3 + e_3 + m_3\n",
    "print('jung의 총 점수는, {0}점 입니다.'.format(total_jung))"
   ]
  },
  {
   "cell_type": "code",
   "execution_count": 10,
   "metadata": {},
   "outputs": [
    {
     "name": "stdout",
     "output_type": "stream",
     "text": [
      "min의 총 점수는 250점 입니다.\n",
      "hun의 총 점수는, 250점 입니다.\n",
      "jung의 총 점수는, 225점 입니다.\n"
     ]
    }
   ],
   "source": [
    "def exam(k, e, m):\n",
    "  total = k + e + m\n",
    "  return total\n",
    "\n",
    "total = 0\n",
    "\n",
    "min_total = exam(80, 78, 92)\n",
    "hun_total = exam(90, 88, 72)\n",
    "jung_total = exam(69, 77, 79)\n",
    "print('min의 총 점수는 {0}점 입니다.'.format(min_total))\n",
    "print('hun의 총 점수는, {0}점 입니다.'.format(hun_total))\n",
    "print('jung의 총 점수는, {0}점 입니다.'.format(jung_total))"
   ]
  },
  {
   "cell_type": "code",
   "execution_count": 19,
   "metadata": {},
   "outputs": [
    {
     "ename": "AttributeError",
     "evalue": "'str' object has no attribute 'values'",
     "output_type": "error",
     "traceback": [
      "\u001b[0;31m---------------------------------------------------------------------------\u001b[0m",
      "\u001b[0;31mAttributeError\u001b[0m                            Traceback (most recent call last)",
      "Cell \u001b[0;32mIn[19], line 10\u001b[0m\n\u001b[1;32m      7\u001b[0m     \u001b[38;5;28mprint\u001b[39m(\u001b[38;5;124mf\u001b[39m\u001b[38;5;124m'\u001b[39m\u001b[38;5;124m총점:\u001b[39m\u001b[38;5;132;01m{\u001b[39;00mtotal\u001b[38;5;132;01m}\u001b[39;00m\u001b[38;5;124m'\u001b[39m)\n\u001b[1;32m      8\u001b[0m     \u001b[38;5;28mprint\u001b[39m()\n\u001b[0;32m---> 10\u001b[0m \u001b[43minfo_and_calc_total\u001b[49m\u001b[43m(\u001b[49m\u001b[43mstudents\u001b[49m\u001b[43m)\u001b[49m\n\u001b[1;32m     11\u001b[0m students \u001b[38;5;241m=\u001b[39m {\n\u001b[1;32m     12\u001b[0m     \u001b[38;5;124m\"\u001b[39m\u001b[38;5;124mname\u001b[39m\u001b[38;5;124m\"\u001b[39m:\u001b[38;5;124m\"\u001b[39m\u001b[38;5;124mmin\u001b[39m\u001b[38;5;124m\"\u001b[39m, \u001b[38;5;124m\"\u001b[39m\u001b[38;5;124m국어\u001b[39m\u001b[38;5;124m\"\u001b[39m:\u001b[38;5;241m80\u001b[39m, \u001b[38;5;124m\"\u001b[39m\u001b[38;5;124m영어\u001b[39m\u001b[38;5;124m\"\u001b[39m:\u001b[38;5;241m78\u001b[39m, \u001b[38;5;124m\"\u001b[39m\u001b[38;5;124m수학\u001b[39m\u001b[38;5;124m\"\u001b[39m:\u001b[38;5;241m92\u001b[39m\n\u001b[1;32m     13\u001b[0m }\n",
      "Cell \u001b[0;32mIn[19], line 3\u001b[0m, in \u001b[0;36minfo_and_calc_total\u001b[0;34m(students)\u001b[0m\n\u001b[1;32m      1\u001b[0m \u001b[38;5;28;01mdef\u001b[39;00m \u001b[38;5;21minfo_and_calc_total\u001b[39m(students):\n\u001b[1;32m      2\u001b[0m   \u001b[38;5;28;01mfor\u001b[39;00m name, scores \u001b[38;5;129;01min\u001b[39;00m students\u001b[38;5;241m.\u001b[39mitems():\n\u001b[0;32m----> 3\u001b[0m     total \u001b[38;5;241m=\u001b[39m \u001b[38;5;28msum\u001b[39m(\u001b[43mscores\u001b[49m\u001b[38;5;241;43m.\u001b[39;49m\u001b[43mvalues\u001b[49m())\n\u001b[1;32m      4\u001b[0m     subjects \u001b[38;5;241m=\u001b[39m \u001b[38;5;124m\"\u001b[39m\u001b[38;5;124m,\u001b[39m\u001b[38;5;124m\"\u001b[39m\u001b[38;5;241m.\u001b[39mjoin(\u001b[38;5;124mf\u001b[39m\u001b[38;5;124m'\u001b[39m\u001b[38;5;132;01m{\u001b[39;00msubject\u001b[38;5;132;01m}\u001b[39;00m\u001b[38;5;124m: \u001b[39m\u001b[38;5;132;01m{\u001b[39;00mscore\u001b[38;5;132;01m}\u001b[39;00m\u001b[38;5;124m'\u001b[39m \u001b[38;5;28;01mfor\u001b[39;00m subject, score \u001b[38;5;129;01min\u001b[39;00m scores\u001b[38;5;241m.\u001b[39mitems())\n\u001b[1;32m      5\u001b[0m     \u001b[38;5;28mprint\u001b[39m(\u001b[38;5;124mf\u001b[39m\u001b[38;5;124m'\u001b[39m\u001b[38;5;124m이름:\u001b[39m\u001b[38;5;132;01m{\u001b[39;00mname\u001b[38;5;132;01m}\u001b[39;00m\u001b[38;5;124m'\u001b[39m)\n",
      "\u001b[0;31mAttributeError\u001b[0m: 'str' object has no attribute 'values'"
     ]
    }
   ],
   "source": [
    "def info_and_calc_total(students):\n",
    "  for name, scores in students.items():\n",
    "    total = sum(scores.values())\n",
    "    subjects = \",\".join(f'{subject}: {score}' for subject, score in scores.items())\n",
    "    print(f'이름:{name}')\n",
    "    print(subjects)\n",
    "    print(f'총점:{total}')\n",
    "    print()\n",
    "\n",
    "\n",
    "students = {\n",
    "    \"min\": {\"국어\":80, \"영어\":78, \"수학\":92}\n",
    "}"
   ]
  },
  {
   "cell_type": "code",
   "execution_count": 16,
   "metadata": {},
   "outputs": [
    {
     "name": "stdout",
     "output_type": "stream",
     "text": [
      "dict_items([('name', 'min'), ('국어', 80), ('영어', 78), ('수학', 92)])\n"
     ]
    }
   ],
   "source": [
    "students = {\"name\":\"min\", \"국어\":80, \"영어\":78, \"수학\":92}\n",
    "\n",
    "name = students.items()\n",
    "\n",
    "print(name)"
   ]
  }
 ],
 "metadata": {
  "kernelspec": {
   "display_name": "Python 3",
   "language": "python",
   "name": "python3"
  },
  "language_info": {
   "codemirror_mode": {
    "name": "ipython",
    "version": 3
   },
   "file_extension": ".py",
   "mimetype": "text/x-python",
   "name": "python",
   "nbconvert_exporter": "python",
   "pygments_lexer": "ipython3",
   "version": "3.9.6"
  }
 },
 "nbformat": 4,
 "nbformat_minor": 2
}
