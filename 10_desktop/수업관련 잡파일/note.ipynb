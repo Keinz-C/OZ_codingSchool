{
 "cells": [
  {
   "cell_type": "markdown",
   "metadata": {},
   "source": [
    "def 게임():\n",
    "print('hello')\n",
    "와\n",
    "일반적인 프린트문으로 출력하는 것의 차이\n"
   ]
  },
  {
   "cell_type": "markdown",
   "metadata": {},
   "source": [
    "##백엔드의 데일리 업무\n",
    " - 업무처리(하지만 생각보다 코드 치는 시간이 많지 않을 수 있음 -> 회사가 커질수록 코드를 많이 짜지 않음.) / 잔디블로그 참조\n",
    " - 배포\n",
    " - 온콜\n",
    " - 장애대응\n",
    " - 비용 최적화\n",
    "  - DB 쿼리 개선\n",
    "  - API 최적화\n",
    "  - 캐싱 개선 등...(레이턴시 줄이기)"
   ]
  },
  {
   "cell_type": "markdown",
   "metadata": {},
   "source": [
    "##파이썬 백엔드 개발자의 장점\n",
    "1. 백엔드 개발자\n",
    "  - 회사에서 보통 중요한 역할\n",
    "2. python\n",
    "  - 원하는 것을 빠르게 구현가능\n",
    "  - 라이브러리가 매우 풍부"
   ]
  },
  {
   "cell_type": "markdown",
   "metadata": {},
   "source": [
    "##파이썬 백엔드 개발자의 단점\n",
    "1. 백엔드 개발자\n",
    "  - 커뮤니케이션\n",
    "    - 회의가 너무 많음\n",
    "      -PO(Product Owner), 프엔개발자, 백엔드 내부 논의 등\n",
    "  - 온콜의 힘듦\n",
    "    - 새벽 시간\n",
    "  - 야근이 생각보다 많음\n",
    "2. Python\n",
    "  - 문법이 자유로워서 유지보수가 어려움"
   ]
  }
 ],
 "metadata": {
  "kernelspec": {
   "display_name": "Python 3",
   "language": "python",
   "name": "python3"
  },
  "language_info": {
   "codemirror_mode": {
    "name": "ipython",
    "version": 3
   },
   "file_extension": ".py",
   "mimetype": "text/x-python",
   "name": "python",
   "nbconvert_exporter": "python",
   "pygments_lexer": "ipython3",
   "version": "3.9.6"
  }
 },
 "nbformat": 4,
 "nbformat_minor": 2
}
