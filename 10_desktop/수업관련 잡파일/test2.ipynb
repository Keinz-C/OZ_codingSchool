{
 "cells": [
  {
   "cell_type": "code",
   "execution_count": 2,
   "metadata": {},
   "outputs": [
    {
     "name": "stdout",
     "output_type": "stream",
     "text": [
      "입금되었습니다. 현재 남아있는 잔액은 2000원 입니다.\n",
      "프로그램을 종료합니다.\n"
     ]
    }
   ],
   "source": [
    "def deposit(account, money):\n",
    "    account += money\n",
    "    print(f'입금되었습니다. 현재 남아있는 잔액은 {account}원 입니다.')\n",
    "    return account\n",
    "\n",
    "def save_account(account, filename='account_balance.txt'):\n",
    "    with open(filename, 'w') as file:\n",
    "        file.write(str(account))\n",
    "\n",
    "def load_account(filename='account_balance.txt'):\n",
    "    try:\n",
    "        with open(filename, 'r') as file:\n",
    "            return int(file.read())\n",
    "    except FileNotFoundError:\n",
    "        return 0\n",
    "\n",
    "# 초기 계좌 잔액 설정\n",
    "account = load_account()\n",
    "\n",
    "try:\n",
    "    money = int(input('입금할 금액은 정수로만 작성해주세요: '))\n",
    "    account = deposit(account, money)\n",
    "    save_account(account)\n",
    "except ValueError:\n",
    "    print('잘못된 입력입니다. 정수를 입력해주세요.')\n",
    "\n",
    "print('프로그램을 종료합니다.')"
   ]
  }
 ],
 "metadata": {
  "kernelspec": {
   "display_name": "Python 3",
   "language": "python",
   "name": "python3"
  },
  "language_info": {
   "codemirror_mode": {
    "name": "ipython",
    "version": 3
   },
   "file_extension": ".py",
   "mimetype": "text/x-python",
   "name": "python",
   "nbconvert_exporter": "python",
   "pygments_lexer": "ipython3",
   "version": "3.9.6"
  }
 },
 "nbformat": 4,
 "nbformat_minor": 2
}
