{
 "cells": [
  {
   "cell_type": "code",
   "execution_count": 1,
   "metadata": {},
   "outputs": [
    {
     "name": "stdout",
     "output_type": "stream",
     "text": [
      "입금되었습니다. 현재 남아있는 잔액은 1000원 입니다.\n",
      "입금을 종료합니다.\n"
     ]
    }
   ],
   "source": [
    "def deposit(account, money):\n",
    "    account += money\n",
    "    print(f'입금되었습니다. 현재 남아있는 잔액은 {account}원 입니다.')\n",
    "    return account\n",
    "\n",
    "# 초기 계좌 잔액 설정\n",
    "account = 0\n",
    "\n",
    "while True:\n",
    "    try:\n",
    "        money = int(input('입금할 금액은 정수로만 작성해주세요 (종료하려면 0을 입력하세요): '))\n",
    "        if money == 0:\n",
    "            print('입금을 종료합니다.')\n",
    "            break\n",
    "        account = deposit(account, money)\n",
    "    except ValueError:\n",
    "        print('잘못된 입력입니다. 정수를 입력해주세요.')"
   ]
  },
  {
   "cell_type": "code",
   "execution_count": 9,
   "metadata": {},
   "outputs": [
    {
     "name": "stdout",
     "output_type": "stream",
     "text": [
      "안녕하세요 저는 마리아입니다.\n",
      "안녕하세요 저는 티모시입니다.\n",
      "이름: 마리아\n",
      "나이: 20\n",
      "주소: 서울시 서초구 반포동\n"
     ]
    }
   ],
   "source": [
    "class Person:\n",
    "    def __init__(self, name, age, address):\n",
    "        self.hello = '안녕하세요'\n",
    "        self.name = name\n",
    "        self.age = age\n",
    "        self.address = address\n",
    "\n",
    "    def greeting(self):\n",
    "         print('{0} 저는 {1}입니다.'.format(self.hello, self.name)) # \n",
    "\n",
    "maria = Person('마리아', 20, '서울시 서초구 반포동')\n",
    "maria.greeting() # 안녕하세요. 저는 마리아입니다. -> 여기서 뽑히는건가요? 아하...\n",
    "\n",
    "t = Person('티모시', 20, '서울서울')\n",
    "t.greeting()\n",
    "\n",
    "print('이름:', maria.name)      # 마리아 - 이쪽에서는 self가 안되는 이유가 선언이 안되서인거죠? / slef는 클래스 안에서만\n",
    "print('나이:', maria.age)       # 20\n",
    "print('주소:', maria.address)   # 서울시 서초구 반포동"
   ]
  },
  {
   "cell_type": "code",
   "execution_count": 10,
   "metadata": {},
   "outputs": [
    {
     "name": "stdout",
     "output_type": "stream",
     "text": [
      "<class 'list'>\n"
     ]
    }
   ],
   "source": [
    "y = [10, 20, 30]\n",
    "\n",
    "print(type(y))"
   ]
  },
  {
   "cell_type": "code",
   "execution_count": 1,
   "metadata": {},
   "outputs": [
    {
     "data": {
      "text/plain": [
       "[2, 4, 6, 8, 10]"
      ]
     },
     "execution_count": 1,
     "metadata": {},
     "output_type": "execute_result"
    }
   ],
   "source": [
    "x = 2\n",
    "n = 5\n",
    "[i * x for i in range(1, n +1)]"
   ]
  }
 ],
 "metadata": {
  "kernelspec": {
   "display_name": "Python 3",
   "language": "python",
   "name": "python3"
  },
  "language_info": {
   "codemirror_mode": {
    "name": "ipython",
    "version": 3
   },
   "file_extension": ".py",
   "mimetype": "text/x-python",
   "name": "python",
   "nbconvert_exporter": "python",
   "pygments_lexer": "ipython3",
   "version": "3.9.6"
  }
 },
 "nbformat": 4,
 "nbformat_minor": 2
}
