{
 "cells": [
  {
   "cell_type": "markdown",
   "metadata": {},
   "source": [
    "### [RDBMS]\n",
    "1. MySQL\n",
    "\t- 개방 소스 RDBMS로서 가장 인기 있는 데이터베이스 중 하나. 다양한 환경에서 사용되며, 웹 애플리케이션부터 대규모 엔터프라이즈 시스템에 이르기까지 다양한 용도로 활용\n",
    "2. PostgreSQL\n",
    "\t- 객체 관계형 데이터베이스 시스템으로, 확장 가능하고 풍부한 기능을 제공. ACID 호환성 ㅣㅁㅊ 다양한 데이터 유형을 지원하여 고급 데이터베이스 요구에 적합\n",
    "3. Microsoft SQL Server\n",
    "\t- Microsoft에서 제공하는 RDBMS로, Windows 기반 환경에서 주로 사용. 엔터프라이즈 급 데이터베이스 솔루션으로 개발 및 관리에 용이\n",
    "4. Oracle Database\n",
    "\t- 오라클이 개발한 대규모 엔터프라이즈용 RDBMS. 뛰어난 성능과 안정성, 확장성을 제공하여 대부분의 산업 분야에서 사용\n",
    "5. SQLite\n",
    "\t- 경량이면서도 서버 없이 로컬에서 사용할 수 있는 RDBMS. 임베디드 시스템이나 모바일 애플리케이션에서 많이 활용\n",
    "\n",
    "  \n",
    "이 중 MySQL과 PostgreSQL은 오픈 소스로 무료로 사용할 수 있어 커뮤니티에서도 널리 사용되고 있다.<br>\n",
    "Microsoft SQL Sever와 Oracle Database는 주로 기업 환경에서 사용되며, 각각의 특정 용도나 환경에 따라 선택될 수 있다.<br>\n",
    "SQLite는 경량 환경이나 모바일 애플리케이션에서 간단한 데이터베이스 요구에 활용된다."
   ]
  }
 ],
 "metadata": {
  "language_info": {
   "name": "python"
  }
 },
 "nbformat": 4,
 "nbformat_minor": 2
}
