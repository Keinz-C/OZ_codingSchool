{
 "cells": [
  {
   "cell_type": "markdown",
   "metadata": {},
   "source": [
    "### [RDBMS] \n",
    "RDBMS(Relational DBMS)란?  \n",
    "관계형 데이터베이스 관리 시스템이라 하며, 표 형태로 데이터를 구조화하고 관리하는 데이터베이스이다. <br>\n",
    "여러개의 테이블로 구성된 2차원 형태의 관계(결과)를 묶어서 만든 DBMS이다.<br>\n",
    "관계형 데이터베이스는 데이터를 테이블 형태로 구조화하는 방시이다.<br>\n",
    "이는 2차원 테이블을 사용하여 데이터를 정의하고 표현하는 데이터 모델이다. 여기서 데이터는 속성(Attribute)과 해당 속성에 대응하는<br>\n",
    "데이터 값(Attribute Value)으로 이뤄져 있다.<br>\n",
    "\n",
    "구체적으로, 데이터를 정리하고 설명하기 위해 속성과 데이터 값 간의 관계를 찾아내어 이를 테이블 형태로 나타낸다.<br>\n",
    "이 테이블은 열(Column)과 행(Row)으로 이뤄져 있으며, 각 열은 데이터의 속성을 나타내고 각 행은 해당 속성에 대응하는 데이터 값을 가지고 있다.\n",
    "여러개의 테이블로 구성된 2차원 형태의 관계(결과)를 묶어서 만든 DBMS이다."
   ]
  },
  {
   "cell_type": "markdown",
   "metadata": {},
   "source": [
    "#### [RDBMS의 구조(Structure)]\n",
    "- 추후 이미지 첨부\n",
    "- Column = Attribute = Field(컬럼)\n",
    "- Row = Record = Tuple(행)\n",
    "\n",
    "Database -> Table -> Column,Row\n",
    "\n",
    "1. <span style=\"color:black; background-color:#F5F5F5;\"><b>스키마(Schema)</b> </span>: 데이터베이스의 구조를 정의하는 것이다. 스키마는 테이블, 행, 열, 인덱스, 관계등의 데이터베이스 구조를 명시한다.\n",
    "2. <span style=\"color:black; background-color:#F5F5F5;\"><b>SQL(Structured Query Language)</b></span> : 데이터베이스에서 데이터를 관리하기 위해 사용되는 표준 프로그래밍 언어이다.<br>\n",
    "SQL을 사용하여 데이터베이스에 질의, 업데이트, 삭제 등의 작업을 수행할 수 있다.\n",
    "3. <span style=\"color:black; background-color:#F5F5F5;\"><b>인덱스(Index)</b></span> : 데이터베이스에서 데이터 검색 속도를 빠르게 하기 위해 사용되는 객체이다.<br>인덱스는 특정 열에 대한 포인터를 포함하여 데이터 검색 시간을 단죽한다.\n",
    "4. <span style=\"color:black; background-color:#F5F5F5;\"><b>데이터베이스 관리 시스템(DBMS)</b></span> : 데이터베이스를 생성하고 관리하는 소프트웨어이다.<br> 예를 들어, MySQL, PostgreSQL, Oracle, Microsoft SQL Server등이 있다.\n",
    "5. <span style=\"color:black; background-color:#F5F5F5;\"><b>트랜잭션(Transaction)</b></span> : 데이터베이스의 상태를 변화시키는 하나의 작업 단위이다. 트랜잭션은 데이터 무결성을 유지하는 데 중요한 역할을 한다.\n",
    "\n",
    "\n",
    "##### 단점\n",
    "1. <span style=\"color:black; background-color:#F5F5F5;\"><b>성능</b></span> : 대용량 데이터 처리나 복잡한 쿼리에 대한 성능이 다른 모델에 비해 낮을 수 있다.\n",
    "2. <span style=\"color:black; background-color:#F5F5F5;\"><b>확장 어려움</b></span> : 수직적 확장이 한계가 있고, 수평적 확장은 복잡하고 비용이 많이 들 수 있다.\n",
    "3. <span style=\"color:black; background-color:#F5F5F5;\"><b>유연성 부족</b></span> : 스키마 변경이 어려워서 요구사항 변경에 대응하기 어려울 수 있다.\n",
    "4. <span style=\"color:black; background-color:#F5F5F5;\"><b>복잡한 join</b></span> : 많은 테이블 간의 join은 성능에 부정적인 영향을 미칠 수 있다.\n",
    "5. <span style=\"color:black; background-color:#F5F5F5;\"><b>고비용</b></span> : 서버 하드웨어 및 라이선스 비용이 상대적으로 높을 수 있다."
   ]
  },
  {
   "cell_type": "markdown",
   "metadata": {},
   "source": [
    "### [RDBMS의 구성 요소]\n",
    "\n",
    "1. 데이터 베이스(학교)\n",
    "2. 테이블 = 모델(학생, 교실, 선생님(급여), 행사, 급식, 동아리, 방과후활동, 과목, 시험, 비품)\n",
    "3. 행 : 하나의 데이터\n",
    "4. 열 : 컬럼\n",
    "\ta. (테이블) 학생 - (컬럼) 나이, 성별, 주소, 성적\n",
    "\tb. 교실 - 학생수, 평균성적\n",
    "\tc. 선생님 - 나이, 성별, 주소, 급여\n",
    "5. 키 : ID\n",
    "\ta. PK(Primary Key) id or pk\n",
    "\t\t1. 테이블 내에서 중복이 절대 불가능(고유값으로 사용이 가능)\n",
    "\t\t2. 행(=하나의 데이터)을 식별할 수 있는 유일한 값\n",
    "\t\t3. 유니크한 값이면 가능\n",
    "\t\t\t- 주민등록번호\n",
    "\t\t\t- 국가 코드(+82, +1, +82 ...)\n",
    "\t\t\t- 학번 (2010+119+09)\n",
    "\t\t\t- 군번\n",
    "\tb. FK(Foreign Key)\n",
    "\t\t1. 다른 케이블의 기본키로 지정된 키\n",
    "\n",
    "\n",
    "#### [정리]\n",
    "1. <span style=\"color:black; background-color:#F5F5F5;\"><b>데이터베이스(Database)</b></span> : 구조화된 데이터의 집합. 데이터베이스는 데이터를 저장, 검색, 수정, 삭제할 수 있게 해주는 시스템\n",
    "2. <span style=\"color:black; background-color:#F5F5F5;\"><b>테이블(Table)</b></span> : 데이터베이스 내에서 데이터가 저장되는 장소이다. 테이블은 행(Row)과 열(Column)의 격자 형태로 구성된다.\n",
    "3. <span style=\"color:black; background-color:#F5F5F5;\"><b>행(Row) / 레코드(Record)</b></span> : 테이블 내의 개별 데이터 항목을 나타낸다. 각 행은 하나의 데이터 항목 또는 개체를 나타낸다.\n",
    "4. <span style=\"color:black; background-color:#F5F5F5;\"><b>열(Column) / 필드(Field)</b></span> : 테이블 내의 특정 카테고리 또는 데이터 유형을 나타낸다.\n",
    "\n",
    "\t1. <span style=\"color:black; background-color:#F5F5F5;\"><b>기본 키(Primary Key)</b></span> : 테이블 내의 각 행을 고유하게 식별하는 열. 기본 키 값은 유일해야 하며, 각 행마다 다른 값을 가져야 한다.\n",
    "\t2. <span style=\"color:black; background-color:#F5F5F5;\"><b>외래 키(Foreign Key)</b></span> : 다른 테이블의 기본 키를 참조하는 열. 외래 키는 두 테이블 간의 관계를 설정하는 데 사용된다."
   ]
  }
 ],
 "metadata": {
  "language_info": {
   "name": "python"
  }
 },
 "nbformat": 4,
 "nbformat_minor": 2
}
