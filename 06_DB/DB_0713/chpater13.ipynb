{
 "cells": [
  {
   "cell_type": "markdown",
   "metadata": {},
   "source": [
    "|숫자형|설명|\n",
    "|:---|:----|\n",
    "|BIT(M)|0과 1로 구성된 이진값, MDMS 1~64 사이의 값|\n",
    "|<span style=\"color:black; background-color:#F5F5F5;\"><b>BOOL</b></span>|<span style=\"color:black; background-color:#F5F5F5;\"><b>0은 False, 0이 아닌 값은 True로 간주되는 논리형 데이터.(True:1)</b></span>|\n",
    "|TINYINT(M)|1바이트 정수, 부호 있는 수는 -128 ~ 127, 부호 없는 수는 0 ~ 255|\n",
    "|SMALLINT(M)|2바이트 정수, 부호 있는 수는 -32768 ~ 32767, 부호 없는 수는 0 ~ 65535|\n",
    "|MEDIUMINT(M)|3바이트 정수, 부호 있는 수는 -8388608 ~ 83886067, 부호 없는 수는 0 ~ 16777215|\n",
    "|<span style=\"color:black; background-color:#F5F5F5;\"><b>INT(M)또는<br>INTEGER(M)|<span style=\"color:black; background-color:#F5F5F5;\"><b>4바이트 정수, 부호 있는 수는 -2147483648 ~ 2147483647, 부호 없는 수는 0 ~ 4294967295</b></span>|\n",
    "|BIGINT(M)|8바이트 정수, 부호 있는 수는 -922337200368547750808 ~ 922337200368547750807, 부호 없는 수는 0 ~ 18446744073709551615|\n",
    "|DECIMAL(M,D)<br>NUMERIC|M자리 정수(정밀도)와 D자리 소수점(스케일)으로 표현. 최대 65자리까지 표현가능.|"
   ]
  },
  {
   "cell_type": "markdown",
   "metadata": {},
   "source": [
    "|문자형|설명|\n",
    "|:---|:----|\n",
    "|<span style=\"color:black; background-color:#F5F5F5;\"><b>CHAR(M)</b></span>|<span style=\"color:black; background-color:#F5F5F5;\"><b>고정 길이 문자열 저장(M: 0 ~ 255)</b></span>|\n",
    "|<span style=\"color:black; background-color:#F5F5F5;\"><b>VARCHAR(M)</b></span>|<span style=\"color:black; background-color:#F5F5F5;\"><b>가변 길이 문자열 저장(M: 0 ~ 65,535)</b></span>|\n",
    "|TINYTEXT|1- 255 길이의 가변 길이 문자열|\n",
    "|TEXT|1 ~ 65,535 길이의 가변 길이 문자열|\n",
    "|MEDIUMTEXT|1 ~ 16,777,215 길이의 가변 길이 문자열|\n",
    "|LONGTEXT|1 ~ 429,496,729 길이의 가변 길이 문자열|\n",
    "|ENUM|최대 65,535 개의 문자열 중 하나를 반환|\n",
    "|SET|비트 연산 열거형, 문자열 값을 정수값으로 매핑하여 저장|\n",
    "\n",
    "<hr>  \n",
    "\n",
    "#### CHAR(M)\n",
    "- <span style=\"color:black; background-color:#F5F5F5;\"><b>고정 길이 문자열 저장</b></span> : CHAR(M)은 항상 M개의 문자를 저장한다.\n",
    "- <span style=\"color:black; background-color:#F5F5F5;\"><b>길이 범위</b></span> : 0에서 255사이의 길이를 가질 수 있다.\n",
    "- <span style=\"color:black; background-color:#F5F5F5;\"><b>공간 사용</b></span> : M 길이의 고정 공간을 사용한다. 저장된 문자열이 M보다 짧으면 나머지 공간은 공백으로 채워진다.\n",
    "- <span style=\"color:black; background-color:#F5F5F5;\"><b>사용 사례</b></span> : 길이가 일정하거나 변하지 않는 데이터에 적합하다. 예를 들어, 성별, 국가 코드 등\n",
    "  \n",
    "#### VARCHAR(M)\n",
    "- <span style=\"color:black; background-color:#F5F5F5;\"><b>가변 길이 문자열 저장</b></span> : VARCHAR(M)은 최대 M개의 문자를 저장할 수 있으며, 실제 저장되는 문자열의 길이에 따라 공간을 사용\n",
    "- <span style=\"color:black; background-color:#F5F5F5;\"><b>길이 범위</b></span> : 0에서 65,535 사이의 길이를 가질 수 있다.\n",
    "- <span style=\"color:black; background-color:#F5F5F5;\"><b>공간 사용</b></span> : 실제 문자열 길이에 따라 가변적인 공간을 사용한다. 추가적으로, 문자열 길이를 저장하기 위한 1~2바이트의 추가 공간이 필요하다.\n",
    "- <span style=\"color:black; background-color:#F5F5F5;\"><b>사용 사례</b></span> : 길이가 예측 불가능하거나 변할 수 있는 데이터에 적합. 예를 들어, 사용자 이름, 설명 텍스트 등  \n",
    "\n",
    "#### 차이점 요약\n",
    "- <span style=\"color:black; background-color:#F5F5F5;\"><b>길이</b></span> : CHAR는 고정 길이, VARCHAR는 가변 길이\n",
    "- <span style=\"color:black; background-color:#F5F5F5;\"><b>공간 효율성</b></span> : CHAR는 항상 고정된 공간 사용, VARCHAR는 실제 데이터 길이에 따라 공간 사용\n",
    "- <span style=\"color:black; background-color:#F5F5F5;\"><b>적용 사례</b></span> : CAR는 데이터 길이가 일정한 경우, VARCHAR는 길이가 변할 수 있는 경우"
   ]
  },
  {
   "cell_type": "markdown",
   "metadata": {},
   "source": [
    "|날짜형|설명|\n",
    "|:---|:----|\n",
    "|DATE|날짜를 표현하는 타입 (3바이트), '1000-01-01' ~ '9999-12-31'|\n",
    "|<span style=\"color:black; background-color:#F5F5F5;\"><b>DATETIME</b></span>|<span style=\"color:black; background-color:#F5F5F5;\"><b>날짜와 시간을 같이 나타내는 타입(8바이트), '1000-01-01 00:00:00' ~ '9999-12-31 23:59:59'</b></span>|\n",
    "|<span style=\"color:black; background-color:#F5F5F5;\"><b>TIMESTAMP</b></span>|<span style=\"color:black; background-color:#F5F5F5;\"><b>'1970-01-01 00:00:00' ~ '2037-01-19 03:14:07', INSERT, UPDATE 연산에 유리(4바이트)</b></span>|\n",
    "|TIME|시간을 표현하는 타입(3바이트), '-838:59:59' ~ '838:59:59'|\n",
    "|YEAR|연도를 나타냄(1바이트), 1901 ~ 2155, 70 ~ 69(1970 ~ 2069)|\n",
    "\n",
    "<hr>  \n",
    "\n",
    "#### DATETIME\n",
    "- <span style=\"color:black; background-color:#F5F5F5;\"><b>범위</b></span>  : 1000-01-01 00:00:00 부터 9999-12-31 23:59:59까지\n",
    "- <span style=\"color:black; background-color:#F5F5F5;\"><b>저장 크기</b></span>  : 8바이트\n",
    "- <span style=\"color:black; background-color:#F5F5F5;\"><b>시간대에 무관</b></span>  : DATETIME 값은 시간대 변환 없이 그대로 저장\n",
    "- <span style=\"color:black; background-color:#F5F5F5;\"><b>사용 사례</b></span>  : 특정 사건이 발생한 정확한 시점을 기록할 때 사용. 예를 들어, 사용자의 생일이나 기념일 등  \n",
    "\n",
    "#### TIMESTAMP\n",
    "- 대부분 TIMESTAMP 사용 / 어떤 서비스를 만들 때 글로벌화를 염두에 두기 때문에(각 나라별 가입 시간이 다르기 때문)\n",
    "- <span style=\"color:black; background-color:#F5F5F5;\"><b>범위</b></span>  : 1970-01-01 00:00:00 부터 2037-01-19 03:14:07까지\n",
    "- <span style=\"color:black; background-color:#F5F5F5;\"><b>저장 크기</b></span>  : 4바이트\n",
    "- <span style=\"color:black; background-color:#F5F5F5;\"><b>시간대에 무관</b></span>  : TIMESTAMP는 UTC로 저장되며, 조회 시 서버의 시간대 설정에 따라 변환\n",
    "- <span style=\"color:black; background-color:#F5F5F5;\"><b>자동 갱신</b></span>  : INSET 나 UPDATE 연산 시 현재 시간으로 자동 갱신될 수 있음\n",
    "- <span style=\"color:black; background-color:#F5F5F5;\"><b>사용 사례</b></span>  : 레코드의 생성 또는 수정 시간을 기록할 때 주로 사용. 예를 들어, 게시물의 작성 시간이나 마지막 수정 시간 등"
   ]
  }
 ],
 "metadata": {
  "language_info": {
   "name": "python"
  }
 },
 "nbformat": 4,
 "nbformat_minor": 2
}
