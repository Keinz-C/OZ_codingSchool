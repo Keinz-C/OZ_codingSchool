{
 "cells": [
  {
   "cell_type": "markdown",
   "metadata": {},
   "source": [
    "### <span style=\"color:red\">[SQL]</span>\n",
    "SQL(Structured Query Language)은 관계형 데이터베이스에서 데이터를 정의, 처리, 제어하는데 사용되는 표준화된 언어이다. SQL은 주로 데이터베이스 관리 시스템(DBMS)과의 상호 작용을 위해 설계되었다.  "
   ]
  },
  {
   "cell_type": "markdown",
   "metadata": {},
   "source": [
    "#### <span style=\"color:red\">[데이터 정의 언어(DDL)]</span>\n",
    "DDL(Data Definition Language)는 데이터베이스의 구조를 정의하고 관리하는 데 사용된다. 주요 명령어로는 아래와 같이 있다.  \n",
    "\n",
    "\n",
    "1. <span style=\"color:black; background-color:#F5F5F5;\"><b>CREATE</b></span> : 데이터베이스 객체를 생성한다. (CREATE TABLE, CREATE INDEX 등)\n",
    "```\n",
    "[사용 예시 문]\n",
    "CREATE TABLE employees (\n",
    "\temployee_id INT PRIMARY KEY,\n",
    "\tfirst_name VARCHAR(50),\n",
    "\tlast_name VARCHAR(50),\n",
    "\thire_date DATE\n",
    ");\n",
    "```  \n",
    "\n",
    "2. <span style=\"color:black; background-color:#F5F5F5;\"><b>Alter</b></span> : 데이터베이스 객체를 수정한다.(ALTER TABLE등)\n",
    "```\n",
    "[사용 예시 문]\n",
    "ALTER TABLE employees\n",
    "ADD COLUMN department VARCHAR(50);\n",
    "```  \n",
    "\n",
    "3. <span style=\"color:black; background-color:#F5F5F5;\"><b>DROP</b></span> : 데이터베이스 객체를 삭제(DROP TABLE등)\n",
    "```\n",
    "[사용 예시 문]\n",
    "DROP TABLE employees;\n",
    "```  \n",
    "  \n",
    "4. <span style=\"color:black; background-color:#F5F5F5;\"><b>TRUNCATE</b></span> : 테이블의 모든 레코드를 삭제하지만 테이블은 유지\n",
    "```\n",
    "[사용 예시 문]\n",
    "TRUNCATE TABLE employees;\n",
    "```"
   ]
  },
  {
   "cell_type": "markdown",
   "metadata": {},
   "source": [
    "#### <span style=\"color:red\">[데이터 처리 언어(DML)]</span>\n",
    "DML(Data Manipulation Language)은 데이터를 검색, 삽입, 수정, 삭제하는 데 사용된다. 주요 명령어로는 아래와 같다.  \n",
    "\n",
    "1. <span style=\"color:black; background-color:#F5F5F5;\"><b>SELECT</b></span> : 데이터베이스에서 정보 검색\n",
    "```\n",
    "[사용 예시 문]\n",
    "SELECT first_name, last_name FROM employees WHERE department = 'IT';\n",
    "```  \n",
    "\n",
    "2. <span style=\"color:black; background-color:#F5F5F5;\"><b>INSERT</b></span> : 새로운 데이터를 테이블에 삽입  \n",
    "```\n",
    "[사용 예시 문]\n",
    "INSERT INTO employees (employee_id, first_name, last_name, hire_date, deaprtment);\n",
    "VALUES (1, 'John', 'Doe', '2024-01-01', 'IT');\n",
    "```  \n",
    "\n",
    "3. <span style=\"color:black; background-color:#F5F5F5;\"><b>UPDATE</b></span> : 테이블의 기존 데이터 수정  \n",
    "```\n",
    "[사용 예시 문]\n",
    "UPDATE employees SET department = 'HR' WHERE employee_id = 1;\n",
    "```  \n",
    "\n",
    "4. <span style=\"color:black; background-color:#F5F5F5;\"><b>DELETE</b></span> : 테이블에서 데이터 삭제\n",
    "```\n",
    "[사용 예시 문]\n",
    "DELETE FROM employees WHERE employee_id -=1;\n",
    "```  "
   ]
  },
  {
   "cell_type": "markdown",
   "metadata": {},
   "source": [
    "### <span style=\"color:red\">[데이터 제어 언어(DCL)]</span>\n",
    "DCL(Data Control Language)은 데이터베이스에 대한 엑세스를 제어하는 데 사용된다. 주로 아래의 명령어가 사용된다.  \n",
    "\n",
    "1. <span style=\"color:black; background-color:#F5F5F5;\"><b>GRANT</b></span> : 사용자에게 특정 작업을 수행할 권한을 부여  \n",
    "```\n",
    "[사용 예시 문]\n",
    "GRANT SELECT ON employees TO username;\n",
    "```  \n",
    "\n",
    "2. <span style=\"color:black; background-color:#F5F5F5;\"><b>REVOKE</b></span> : 사용자로부터 특정 작업 수행 권한을 제거\n",
    "```\n",
    "[사용 예시 문]\n",
    "REVOKE SELECT ON employees FROM username;\n",
    "```  "
   ]
  },
  {
   "cell_type": "markdown",
   "metadata": {},
   "source": [
    "### <span style=\"color:red\">[TCL]</span>\n",
    "TCL(Transaction Control Language)은 데이터베이스 내의 트랜잭션을 관리하는데 사용되는 SQL문이다.  \n",
    "- 주요 명령어\n",
    "\t- <span style=\"color:black; background-color:#F5F5F5;\"><b>COMMIT</b></span> : 트랜잭션을 완료하고, 데이터베이스 변경사항을 영구적으로 저장\n",
    "\t- <span style=\"color:black; background-color:#F5F5F5;\"><b>ROLLBACK</b></span> : 트랜잭션을 취소하고, 마지막 COMMIT 이후의 모든 변경사항을 되돌림\n",
    "\t- <span style=\"color:black; background-color:#F5F5F5;\"><b>SAVEPOINT</b></span> : 트랜잭션 내 특정 지점을 마킹하여 필요시 그 지점으로 되돌릴 수 있음"
   ]
  },
  {
   "cell_type": "markdown",
   "metadata": {},
   "source": [
    "### <span style=\"color:red\">[정리]</span>\n",
    "\n",
    "각각의 언어 유형은 데이터베이스의 다양한 측면을 다루며, 데이터베이스의 구조를 정의하고(DDL), 데이터를 처리하며(DML),<br>\n",
    "사용자 권한을 관리하고(DCL), 트랜잭션을 제어하는(TCL)역할을 한다.<br>\n",
    "이러한 분류를 통해 데이터베이스 시스템의 효과적인 관리와 운영이 가능하다."
   ]
  }
 ],
 "metadata": {
  "language_info": {
   "name": "python"
  }
 },
 "nbformat": 4,
 "nbformat_minor": 2
}
