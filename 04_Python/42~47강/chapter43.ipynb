{
 "cells": [
  {
   "cell_type": "code",
   "execution_count": null,
   "metadata": {},
   "outputs": [],
   "source": [
    "# 클래스를 선언(만들기)\n",
    "class CreateOzStudent:\n",
    "  pass\n",
    "\n",
    "# 클래스 이름과 같은 함수(생성자)를 사용해서 객체를 만든다.\n",
    "# 여기서 프로그래밍 언어로 함수(생성자)로 생성된 객체를 인스턴스라고 한다.\n",
    "# class CreateOzStudent 클래스와 동일한 이름의 CreateOzStudent() 함수를 사용해 객체를 만드는데\n",
    "# 이때, 사용 CreateOzStudent() 함수를 생성자 함수라고 한다.\n",
    "# student => 클래스를 이용해 만들어진 객체를 인스턴스라고 함.\n",
    "\n",
    "# 인스턴스 = 생성자(함수)\n",
    "student = CreateOzStudent()\n",
    "\n",
    "oz_students = [\n",
    "  CreateOzStudent(\"백현우\", 4, 3, 3, 2),\n",
    "  CreateOzStudent(\"홍혜인\", 4, 5, 2, 4),\n",
    "  CreateOzStudent(\"윤은성\", 3, 4, 4, 1),\n",
    "  CreateOzStudent(\"홍수철\", 2, 3, 1, 5)\n",
    "]"
   ]
  },
  {
   "cell_type": "markdown",
   "metadata": {},
   "source": [
    "이렇게 생성자 함수를 이용해서 객체를 만들 때 그냥 만드는 것이 아니라  \n",
    "객체에 적용시키고자 하는 기본 속성이나 어떤 처리를 할 수 있다.  \n",
    "\n",
    "바로, class에 만들 수 있는 ```__init___``` 함수를 이용해서 가능하다.\n",
    "```\n",
    "class 클래스 이름:\n",
    "  def __init__(self, 추가적인 매개변수):\n",
    "```\n",
    "여기서 init를 이용한 내부 함수 생성 시 주의해야할 점이 있다.  \n",
    "매개변수로 첫 번재 값은 self를 입력해야한다.\n",
    "- self가 아니고 다른 변수명을 사용해도 되지만, 전 세계 개발자가 공통으로 사용하고 있기 때문에 self가 권장됨\n",
    "- self로 왜 자기 자신을 호출하는지? 클래스 안에 선언 함수를 보통 메소드라고 부른다.  \n",
    "\n",
    "이 메소드를 사용하기 위해서는 클래스명 뒤에 .점을 붙여 사용할 수 있다."
   ]
  },
  {
   "cell_type": "code",
   "execution_count": 1,
   "metadata": {},
   "outputs": [
    {
     "data": {
      "text/plain": [
       "['chapter42.ipynb', 'chapter43.ipynb']"
      ]
     },
     "execution_count": 1,
     "metadata": {},
     "output_type": "execute_result"
    }
   ],
   "source": [
    "import os\n",
    "os.listdir()"
   ]
  },
  {
   "cell_type": "markdown",
   "metadata": {},
   "source": [
    "이때 os 모듈이 메모리 어딘가에서 실행된다.  \n",
    "\n",
    "그 위치는 self가 자기 자신을 참조한다.  \n",
    "참조라는 건 결국 메모리 어딘가에 위치해 있는지 주소를 참조하는 것이다.  \n",
    "\n",
    "그러면 self에 값은 누가 넣는지?  \n",
    "파이썬에서 클래스 내부 함수의 매개변수 가장 첫 번째 값이 자동으로 채워준다.  \n",
    "\n",
    "그래서 ```클래스.method()```만으로 우리는 쉽게 기능을 사용할 수 있다."
   ]
  },
  {
   "cell_type": "code",
   "execution_count": 23,
   "metadata": {},
   "outputs": [
    {
     "name": "stdout",
     "output_type": "stream",
     "text": [
      "('홍수철',)\n",
      "(4,)\n",
      "(5,)\n",
      "(2,)\n",
      "4\n"
     ]
    }
   ],
   "source": [
    "# 클래스 선언 및 클래스 내부 함수의 속성 선언\n",
    "class CreateOzStudent:\n",
    "  def __init__(self, name, python, database, Django, AWS):  # self는 자신이 속한 클래스에서 각 속성명을 참조해 매개변수의 값을 집어넣는다.\n",
    "    self.name = name,\n",
    "    self.python = python,\n",
    "    self.database = database,\n",
    "    self.Django = Django,\n",
    "    self.AWS = AWS\n",
    "\n",
    "# 데이터 입력\n",
    "oz_students = [\n",
    "  CreateOzStudent(\"백현우\", 4, 3, 3, 2),  # CreateOzStudent() 생성자를 이용해 리스트 안에 데이터 생성\n",
    "  CreateOzStudent(\"홍혜인\", 4, 5, 2, 4),\n",
    "  CreateOzStudent(\"윤은성\", 3, 4, 4, 1),\n",
    "  CreateOzStudent(\"홍수철\", 2, 3, 1, 5)\n",
    "]\n",
    "\n",
    "# oz_students 인스턴스 속성에 접근하는 방법\n",
    "print(oz_students[3].name)\n",
    "print(oz_students[1].python)\n",
    "print(oz_students[1].database)\n",
    "print(oz_students[1].Django)\n",
    "print(oz_students[1].AWS)"
   ]
  },
  {
   "cell_type": "markdown",
   "metadata": {},
   "source": [
    "```\n",
    "class 클래스 이름:\n",
    "\tdef 메소드 이름(self, 추가적인 매개변수)\n",
    "\t\tpass\n",
    "```  \n",
    "위에서 작성한 코드에 총합과 평균을 구하는 기능을 클래스 내부 함수로 작성해보자."
   ]
  },
  {
   "cell_type": "code",
   "execution_count": 48,
   "metadata": {},
   "outputs": [
    {
     "name": "stdout",
     "output_type": "stream",
     "text": [
      "이름\t총점\t평균\n",
      "백현우\t12\t3.0\n",
      "홍혜인\t15\t3.75\n",
      "윤은성\t12\t3.0\n",
      "홍수철\t11\t2.75\n"
     ]
    }
   ],
   "source": [
    "# 클래스 선언 및 클래스 내부 함수 선언\t/ 순서 3\n",
    "class CreateOzStudent:\t# 순서 3-2 / 인스턴스의 설정 값들이 각 매개변수에 할당\n",
    "    def __init__(self, name, python, database, Django, AWS):\n",
    "        self.name = name\n",
    "        self.python = python\n",
    "        self.database = database\n",
    "        self.Django = Django\n",
    "        self.AWS = AWS\n",
    "        \n",
    "    def get_sum(self):\t# 순서 3-3 / 처음엔 함수 선언만 되었다가, 할당받은 설정값을 가지고 내려와 코드를 실행, get_sum에 반환하여 값을 남김\n",
    "        return self.python + self.database + self.Django + self.AWS\n",
    "    \n",
    "    def get_average(self):\t# 순서 3-4 / 처음엔 함수 선언만 됨, get_sum과 동작방식은 같음\n",
    "        return self.get_sum() / 4\t# class 내부의 함수를 사용할때에도 함수명 앞에 self.를 붙여줘야 클래스 내부의 주소에서 참조하여 호출할 수 있다.\n",
    "    \n",
    "    def to_string(self):\t# 순서 3-1 / 위의 선언 함수를 지나 to_string을 호출받았기 때문에 참조할 자신의 클래스 처음으로 이동\n",
    "        return f'{self.name}\\t{self.get_sum()}\\t{self.get_average()}'\n",
    "\n",
    "# 데이터 입력 / 순서 1\n",
    "oz_students = [\n",
    "  CreateOzStudent(\"백현우\", 4, 3, 3, 2),  # CreateOzStudent() 생성자를 이용해 리스트 안에 데이터 생성\n",
    "  CreateOzStudent(\"홍혜인\", 4, 5, 2, 4),\n",
    "  CreateOzStudent(\"윤은성\", 3, 4, 4, 1),\n",
    "  CreateOzStudent(\"홍수철\", 2, 3, 1, 5)\n",
    "]\n",
    "\n",
    "# 출력값을 위한 출력문 / 순서 2\n",
    "print(\"이름\", \"총점\", \"평균\", sep=\"\\t\")\n",
    "\n",
    "for student in oz_students:\t\t# for문에서 to_string이 호출되어 클래스 실행\n",
    "     print(student.to_string())"
   ]
  },
  {
   "cell_type": "markdown",
   "metadata": {},
   "source": [
    "위의 코드를 풀이해보자.  \n",
    "\n",
    "1. oz_students 라는 데이터 자료를 입력한다.\n",
    "2. 선언할 클래스명과 같은 생성자 함수를 oz_students 인스턴스 객체 안에 리스트[] 형태로 데이터를 입력한다.\n",
    "3. oz_student 인스턴스의 리스트들을 student라는 변수에 할당하고, 변수를 통해 클래스의 최종 출력문인 .to_string()을 호출\n",
    "4. .to_string()이 호출되면서 class CreateOzStudent 내부의 함수가 실행\n",
    "5. __init__ 함수를 통해 인스턴스가 생성되면 자동으로 호출되어 클래스 내의 함수를 실행할 수 있도록 초기화(준비)한다.\n",
    "6. 우선 class 내부의 속성에 인스턴스의 속성 값들이 할당된다.\n",
    "7. 그 다음, 각 함수를 통해 get_sum과 get_average가 정의된다.\n",
    "8. to_string함수가 정의되며, f-string으로 각 값들을 호출하여 위의 get_sum과 get_average의 리턴값을 self를 통해 자신을 참조하며 코드를 실행.\n",
    "9. 최종적으로 출력문의 첫 번째인 \"이름\", \"총점\", \"평균\"이 설정된 탭 사이즈 만큼 구분되어 출력\n",
    "10. oz_students 리스트의 값을 계속 불러오도록 for문으로 반복하기 때문에 각 값을 CreateOzStudent 클래스의 to_string()에 맞게 출력"
   ]
  },
  {
   "cell_type": "code",
   "execution_count": null,
   "metadata": {},
   "outputs": [],
   "source": []
  }
 ],
 "metadata": {
  "kernelspec": {
   "display_name": "Python 3",
   "language": "python",
   "name": "python3"
  },
  "language_info": {
   "codemirror_mode": {
    "name": "ipython",
    "version": 3
   },
   "file_extension": ".py",
   "mimetype": "text/x-python",
   "name": "python",
   "nbconvert_exporter": "python",
   "pygments_lexer": "ipython3",
   "version": "3.9.6"
  }
 },
 "nbformat": 4,
 "nbformat_minor": 2
}
