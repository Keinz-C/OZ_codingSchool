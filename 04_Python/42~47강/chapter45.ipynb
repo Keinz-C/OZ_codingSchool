{
 "cells": [
  {
   "cell_type": "markdown",
   "metadata": {},
   "source": [
    "클래스 변수를 만드는 방법과 변수에 접근하는 방법은 아래와 같다.  \n",
    "\n",
    "<span style=\"color:red\">[클래스 변수 만들기]</span>  \n",
    "\n",
    "```\n",
    "class 클래스 이름:\n",
    "    클래스 변수 = 값\n",
    "```\n",
    "<hr>\n",
    "<span style=\"color:red\">[클래스 변수에 접근하기]</span>  \n",
    "\n",
    "```\n",
    "클래스 이름.변수 이름\n",
    "``` "
   ]
  },
  {
   "cell_type": "code",
   "execution_count": 4,
   "metadata": {},
   "outputs": [
    {
     "name": "stdout",
     "output_type": "stream",
     "text": [
      "1번째 수강생의 정보가 추가되었습니다.\n",
      "2번째 수강생의 정보가 추가되었습니다.\n",
      "3번째 수강생의 정보가 추가되었습니다.\n",
      "4번째 수강생의 정보가 추가되었습니다.\n",
      "현재 데이터가 입력된 총 수강생은 4명 입니다.\n"
     ]
    }
   ],
   "source": [
    "# 입력된 수강생 정보의 갯수를 세는 코드\n",
    "\n",
    "class CreateOzStudent:\n",
    "    \n",
    "\tcount = 0\n",
    "\n",
    "\tdef __init__(self, name, python, database, Django, AWS):\n",
    "\t\tself.name = name\n",
    "\t\tself.python = python\n",
    "\t\tself.database = database\n",
    "\t\tself.Django = Django\n",
    "\t\tself.AWS = AWS\n",
    "        \n",
    "\t\tCreateOzStudent.count += 1\t# 인스턴스의 값을 받을때마다 카운트를 하나씩 쌓음\n",
    "\t\tprint(f'{CreateOzStudent.count}번째 수강생의 정보가 추가되었습니다.')\t# 인스턴스의 생성자 함수가 실행될때마다 출력\n",
    "\n",
    "# 데이터 입력\n",
    "oz_students = [\n",
    "  CreateOzStudent(\"백현우\", 4, 3, 3, 2),  \n",
    "  CreateOzStudent(\"홍혜인\", 4, 5, 2, 4),\n",
    "  CreateOzStudent(\"윤은성\", 3, 4, 4, 1),\n",
    "  CreateOzStudent(\"홍수철\", 2, 3, 1, 5)\n",
    "]\n",
    "\n",
    "print(f'현재 데이터가 입력된 총 수강생은 {CreateOzStudent.count}명 입니다.')\t# 클래스 안의 변수를 밖으로 불러오기 위해서 클래스.변수를 f-string으로 출력"
   ]
  },
  {
   "cell_type": "markdown",
   "metadata": {},
   "source": [
    "생성하는 방법은 일반 함수와 다르지 않지만, 클래스 안에 변수를 생성했기 때문에 사용하기 위해선  \n",
    "```클래스.변수명```으로 사용해야 된다.  \n",
    "\n",
    "\n",
    "클래스 변수 외에도 함수도 마찬가지이다.  \n",
    "\n",
    "다만, 클래스 안에 함수를 만드는 방법은 조금 다르다.  \n",
    "\n",
    "@classmethod라는 데코레이터를 이용한다.  \n",
    "함수에서 사용된 함수 데코레이터와 만드는 방법은 동일하나 명칭은 클래스 데코레이터라고 부른다.  \n",
    "\n",
    "```\n",
    "class 클래스 이름:\n",
    "\t@classmethod\n",
    "\tdef 클래스 함수명(cls, 매개변수): <- cls는 클래스 이름을 적으면 된다\n",
    "\t\tpass\n",
    "```  \n",
    "\n",
    "그리고 클래스 함수를 호출하는 방법은 아래와 같다.  \n",
    "```\n",
    "클래스 이름.함수 이름(매개변수)\n",
    "```"
   ]
  },
  {
   "cell_type": "code",
   "execution_count": 11,
   "metadata": {},
   "outputs": [
    {
     "name": "stdout",
     "output_type": "stream",
     "text": [
      "수강생의 데이터 정보\n",
      "이름\t총점\t평균\n",
      "백현우\t12\t3.0\n",
      "홍혜인\t15\t3.75\n",
      "윤은성\t12\t3.0\n",
      "홍수철\t11\t2.75\n"
     ]
    }
   ],
   "source": [
    "# __str__ 적용 코드\n",
    "\n",
    "class CreateOzStudent:\n",
    "    students = []\t# students라는 빈 list생성 / 생성자 함수의 값을 저장하기 때문에 인스턴스가 됨.\n",
    "    \n",
    "    @classmethod\t# @classmethod를 통해서 클래스 내부의 함수의 기능을 확장, 변경함 / 즉, 아래 init함수에 저장된 정보를 받기 위해 데코레이터된 함수이다.\n",
    "    def print(cls):\n",
    "        print(\"수강생의 데이터 정보\")\n",
    "        print(\"이름\\t총점\\t평균\")\n",
    "        for student in cls.students:\n",
    "            print(str(student))\n",
    "            \n",
    "    def __init__(self, name, python, database, Django, AWS):\n",
    "        self.name = name\n",
    "        self.python = python\n",
    "        self.database = database\n",
    "        self.Django = Django\n",
    "        self.AWS = AWS\n",
    "        CreateOzStudent.students.append(self)\n",
    "        \n",
    "    def get_sum(self):\t\n",
    "        return self.python + self.database + self.Django + self.AWS\n",
    "    \n",
    "    def get_average(self):\t\n",
    "        return self.get_sum() / 4\t\n",
    "    \n",
    "    def __str__(self):\n",
    "        return f'{self.name}\\t{self.get_sum()}\\t{self.get_average()}'\n",
    "\n",
    "\n",
    "# 생성자 함수를 통해 데이터 입력\n",
    "CreateOzStudent(\"백현우\", 4, 3, 3, 2)\n",
    "CreateOzStudent(\"홍혜인\", 4, 5, 2, 4)\n",
    "CreateOzStudent(\"윤은성\", 3, 4, 4, 1)\n",
    "CreateOzStudent(\"홍수철\", 2, 3, 1, 5)\n",
    "\n",
    "# 클래스 내부의 결과값을 호출하여 출력\n",
    "CreateOzStudent.print()"
   ]
  },
  {
   "cell_type": "markdown",
   "metadata": {},
   "source": [
    "class로 인스턴스를 생성하게 되면 class안에 선언된 내부함수(매개변수에 self가 들어간 값)가 자동으로 호출된다.  \n",
    "\n",
    "그리고 클래스 함수는 CreateOzStudent.함수명()으로 실행할 수 있다."
   ]
  }
 ],
 "metadata": {
  "kernelspec": {
   "display_name": "Python 3",
   "language": "python",
   "name": "python3"
  },
  "language_info": {
   "codemirror_mode": {
    "name": "ipython",
    "version": 3
   },
   "file_extension": ".py",
   "mimetype": "text/x-python",
   "name": "python",
   "nbconvert_exporter": "python",
   "pygments_lexer": "ipython3",
   "version": "3.9.6"
  }
 },
 "nbformat": 4,
 "nbformat_minor": 2
}
