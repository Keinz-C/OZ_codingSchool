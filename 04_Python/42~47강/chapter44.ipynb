{
 "cells": [
  {
   "cell_type": "markdown",
   "metadata": {},
   "source": [
    "- isinstance() : 첫 번째 매개변수에는 인스턴스(객체), 두 번째 매개변수에는 클래스를 입력해주면  \n",
    "두 번째 매개변수로 입력한 클래스 기반으로 인스턴스가 생성되었는지 True, False로 반환해준다.\n",
    "- isinsatance()는 다양한 클래스 중에서 어떤 클래스에서 생성된 인스턴스인지 확인하기 위한 함수이다.  \n",
    "이유는 각 클래스마다 생성된 인스턴스는 대체 방법이 다르기 때문이다."
   ]
  },
  {
   "cell_type": "code",
   "execution_count": 2,
   "metadata": {},
   "outputs": [
    {
     "name": "stdout",
     "output_type": "stream",
     "text": [
      "isinstance(student, Student): True\n"
     ]
    }
   ],
   "source": [
    "# isinstance() 예제 코드\n",
    "\n",
    "class Student:\n",
    "    def __init__(self):\n",
    "        pass\n",
    "    \n",
    "student = Student()\n",
    "\n",
    "print(\"isinstance(student, Student):\", isinstance(student, Student))\t\t# 첫 번째 값으로 들어가는 매개변수는 인스턴스(객체) 두 번째는 클래스 이름"
   ]
  },
  {
   "cell_type": "code",
   "execution_count": 3,
   "metadata": {},
   "outputs": [
    {
     "name": "stdout",
     "output_type": "stream",
     "text": [
      "파이썬 수강중입니다.\n",
      "파이썬 수강중입니다.\n",
      "자바 수강할 예정입니다.\n",
      "파이썬 수강중입니다.\n",
      "자바 수강할 예정입니다.\n",
      "파이썬 수강중입니다.\n"
     ]
    }
   ],
   "source": [
    "# 여러 개 생성된 클래스에서 isinstance()를 활용하는 예제\n",
    "\n",
    "class Python:\t\t# 순서 4 / 각 클래스는 처음에 정의되지만, 실행순서로는 나중\n",
    "    def python(self):\n",
    "        print(\"파이썬 수강중입니다.\")\n",
    "        \n",
    "\n",
    "class Java:\t\t\t# 순서 5\n",
    "    def java(self):\n",
    "        print(\"자바 수강할 예정입니다.\")\n",
    "        \n",
    "\n",
    "programming_subjects = [\t\t# 순서 1 / 객체 안에 데이터 입력\n",
    "    Python(),\n",
    "    Python(),\n",
    "    Java(),\n",
    "    Python(),\n",
    "    Java(),\n",
    "    Python(),\n",
    "]\n",
    "\n",
    "for subject in programming_subjects:\t# 순서 2 / for문을 통해 객체 subject 객체에 할당하고 생성자 함수를 불러오게 됨.\n",
    "    if isinstance(subject, Python):\t\t# 순서 2-1 / if 문에 조건문으로 isinstance()를 작성하여 실행하도록 작성\n",
    "        subject.python()\t\t\t\t# 순서 2-2 / 생성자 함수를 호출하기 때문에 subject는 인스턴스가 되어 클래스 내의 메서드를 활용\n",
    "    elif isinstance(subject, Java):\t\t# 순서 3 / elif는 그리고~ 아니라면 느낌으로 if문을 실행하다가 for 반복문에서 False값이 나온다면 실행되는 함수이다.\n",
    "        subject.java()\t\t\t\t\t# 순서 3-1 / 똑같이 subject라는 인스턴스가 Java클래스의 메서드를 호출함"
   ]
  },
  {
   "cell_type": "code",
   "execution_count": null,
   "metadata": {},
   "outputs": [],
   "source": [
    "# 특수 이름의 메서드\n",
    "\n",
    "class Student:\n",
    "    def __init__(self):\n",
    "        pass\n",
    "    \n",
    "# Student()는 클래스 명과 동일한 생성자 함수\n",
    "# student는 Student 클래스로 생성된 객체 즉 인스턴스를 말함\n",
    "studnet = Student()\n",
    "\n",
    "student."
   ]
  },
  {
   "cell_type": "markdown",
   "metadata": {},
   "source": [
    "```__이름__```을 가진 형태의 파이썬에서 기본 제공되는 함수들이 있다.  \n",
    "\n",
    "```__str___()```이란 이름으로 기존 to_string 함수의 이름을 대체 할 수 있다.  \n",
    "\n",
    "참고로, ```__str__()```로 정의하게 되면 str()만 입력해도 기존 방식과 다르게 자동으로 호출된다.  \n",
    "\n",
    "그래서 기존에 있는 함수 호출 부분인 코드를  \n",
    "\n",
    "```print(student.to_string())```  \n",
    "\n",
    "아래와 같이 변경해서 실행할 수 있다.  \n",
    "\n",
    "```print(str(student))```"
   ]
  },
  {
   "cell_type": "code",
   "execution_count": null,
   "metadata": {},
   "outputs": [],
   "source": [
    "# 클래스 선언 및 클래스 내부 함수 선언\t/ 순서 3\n",
    "class CreateOzStudent:\t# 순서 3-2 / 인스턴스의 설정 값들이 각 매개변수에 할당\n",
    "    def __init__(self, name, python, database, Django, AWS):\n",
    "        self.name = name\t# self가 가지고 있는 속성과 기능에 접근하기 위해서는 self.식별자\n",
    "        self.python = python\n",
    "        self.database = database\n",
    "        self.Django = Django\n",
    "        self.AWS = AWS\n",
    "        \n",
    "    def get_sum(self):\t# 순서 3-3 / 처음엔 함수 선언만 되었다가, 할당받은 설정값을 가지고 내려와 코드를 실행, get_sum에 반환하여 값을 남김\n",
    "        return self.python + self.database + self.Django + self.AWS\n",
    "    \n",
    "    def get_average(self):\t# 순서 3-4 / 처음엔 함수 선언만 됨, get_sum과 동작방식은 같음\n",
    "        return self.get_sum() / 4\t# class 내부의 함수를 사용할때에도 함수명 앞에 self.를 붙여줘야 클래스 내부의 주소에서 참조하여 호출할 수 있다.\n",
    "    \n",
    "    def to_string(self):\t# 순서 3-1 / 위의 선언 함수를 지나 to_string을 호출받았기 때문에 참조할 자신의 클래스 처음으로 이동\n",
    "        return f'{self.name}\\t{self.get_sum()}\\t{self.get_average()}'\n",
    "\n",
    "# 데이터 입력 / 순서 1\n",
    "oz_students = [\n",
    "  CreateOzStudent(\"백현우\", 4, 3, 3, 2),  # CreateOzStudent() 생성자를 이용해 리스트 안에 데이터 생성\n",
    "  CreateOzStudent(\"홍혜인\", 4, 5, 2, 4),\n",
    "  CreateOzStudent(\"윤은성\", 3, 4, 4, 1),\n",
    "  CreateOzStudent(\"홍수철\", 2, 3, 1, 5)\n",
    "]\n",
    "\n",
    "# 출력값을 위한 출력문 / 순서 2\n",
    "print(\"이름\", \"총점\", \"평균\", sep=\"\\t\")\n",
    "\n",
    "for student in oz_students:\t\t# for문에서 to_string이 호출되어 클래스 실행\n",
    "     print(student.to_string())"
   ]
  },
  {
   "cell_type": "code",
   "execution_count": 4,
   "metadata": {},
   "outputs": [
    {
     "name": "stdout",
     "output_type": "stream",
     "text": [
      "이름\t총점\t평균\n",
      "백현우\t12\t3.0\n",
      "홍혜인\t15\t3.75\n",
      "윤은성\t12\t3.0\n",
      "홍수철\t11\t2.75\n"
     ]
    }
   ],
   "source": [
    "# __str__ 적용 코드\n",
    "\n",
    "class CreateOzStudent:\t\n",
    "    def __init__(self, name, python, database, Django, AWS):\n",
    "        self.name = name\n",
    "        self.python = python\n",
    "        self.database = database\n",
    "        self.Django = Django\n",
    "        self.AWS = AWS\n",
    "        \n",
    "    def get_sum(self):\t\n",
    "        return self.python + self.database + self.Django + self.AWS\n",
    "    \n",
    "    def get_average(self):\t\n",
    "        return self.get_sum() / 4\t\n",
    "    \n",
    "    def __str__(self):\t# <= 이거 바꾸니까\n",
    "        return f'{self.name}\\t{self.get_sum()}\\t{self.get_average()}'\n",
    "    \n",
    "\t# def __eq__(self):\n",
    "    #     return ~~~~\t\t이렇게 적으면\n",
    "\n",
    "# 데이터 입력 / 순서 1\n",
    "oz_students = [\n",
    "  CreateOzStudent(\"백현우\", 4, 3, 3, 2),  \n",
    "  CreateOzStudent(\"홍혜인\", 4, 5, 2, 4),\n",
    "  CreateOzStudent(\"윤은성\", 3, 4, 4, 1),\n",
    "  CreateOzStudent(\"홍수철\", 2, 3, 1, 5)\n",
    "]\n",
    "\n",
    "# 출력값을 위한 출력문 / 순서 2\n",
    "print(\"이름\", \"총점\", \"평균\", sep=\"\\t\")\n",
    "\n",
    "for student in oz_students:\t\t\n",
    "     print(str(student))\t# <= 여기 바뀜\n",
    "    #  print(student == student_2) 이런 식으로 출력해서 사용하면 됨."
   ]
  },
  {
   "cell_type": "markdown",
   "metadata": {},
   "source": [
    "```__eq___ / 이퀄```이라는 이름을 가진 함수도 존재한다.  \n",
    "\n",
    "실행 방법은 '=='을 이용해서 사용할 수 있다."
   ]
  },
  {
   "cell_type": "code",
   "execution_count": null,
   "metadata": {},
   "outputs": [],
   "source": []
  }
 ],
 "metadata": {
  "kernelspec": {
   "display_name": "Python 3",
   "language": "python",
   "name": "python3"
  },
  "language_info": {
   "codemirror_mode": {
    "name": "ipython",
    "version": 3
   },
   "file_extension": ".py",
   "mimetype": "text/x-python",
   "name": "python",
   "nbconvert_exporter": "python",
   "pygments_lexer": "ipython3",
   "version": "3.9.6"
  }
 },
 "nbformat": 4,
 "nbformat_minor": 2
}
