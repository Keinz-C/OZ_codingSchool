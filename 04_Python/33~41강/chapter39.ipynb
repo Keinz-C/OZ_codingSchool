{
 "cells": [
  {
   "cell_type": "markdown",
   "metadata": {},
   "source": [
    "[데코레이터]\n",
    "- @으로 시작하는 구문을 데코레이터라고 함\n",
    "- 데코레이터는 만드는 방법에 따라 함수 데코레이터와 클래스 데코레이터로 나눌 수 있음  \n",
    "\n",
    "[함수 데코레이터]  \n",
    "함수에 사용되는 데코레이터는 함수 앞뒤에 붙일 내용이나 반복할 내용이 있을때 사용합니다."
   ]
  },
  {
   "cell_type": "code",
   "execution_count": 1,
   "metadata": {},
   "outputs": [
    {
     "name": "stdout",
     "output_type": "stream",
     "text": [
      "파이썬 진짜 재밌...재밌....\n"
     ]
    }
   ],
   "source": [
    "def oz():\n",
    "  print(\"파이썬 진짜 재밌...재밌....\")\n",
    "\n",
    "oz()"
   ]
  },
  {
   "cell_type": "code",
   "execution_count": 2,
   "metadata": {},
   "outputs": [
    {
     "name": "stdout",
     "output_type": "stream",
     "text": [
      "진짜루 은근 재밌음!\n",
      "파이썬 진짜 재밌...재밌....\n",
      "정병입니다...\n"
     ]
    }
   ],
   "source": [
    "def test(function):\n",
    "  def wrapper():\n",
    "    print(\"진짜루 은근 재밌음!\")\n",
    "    function()\n",
    "    print(\"정병입니다...\")\n",
    "  return wrapper\n",
    "\n",
    "@test\n",
    "def oz():\n",
    "  print(\"파이썬 진짜 재밌...재밌....\")\n",
    "\n",
    "oz()"
   ]
  },
  {
   "cell_type": "markdown",
   "metadata": {},
   "source": [
    "웹 프레임워크에서 굉장히 많이 사용되는 기능이다.  \n",
    "데코레이터의 기능과 사용방법에 대한 내용은 구글링을 통해 더 공부해 보는 것이 좋다."
   ]
  }
 ],
 "metadata": {
  "kernelspec": {
   "display_name": "Python 3",
   "language": "python",
   "name": "python3"
  },
  "language_info": {
   "codemirror_mode": {
    "name": "ipython",
    "version": 3
   },
   "file_extension": ".py",
   "mimetype": "text/x-python",
   "name": "python",
   "nbconvert_exporter": "python",
   "pygments_lexer": "ipython3",
   "version": "3.9.6"
  }
 },
 "nbformat": 4,
 "nbformat_minor": 2
}
