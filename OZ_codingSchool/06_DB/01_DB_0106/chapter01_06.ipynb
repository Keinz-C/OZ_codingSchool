{
 "cells": [
  {
   "cell_type": "markdown",
   "metadata": {},
   "source": [
    "[문제1]\n",
    "\n",
    "DBMS 특징이 아닌것을 골라주세요\n",
    "\n",
    "- 데이터 무결성\n",
    "- 데이터 보안성\n",
    "- 데이터 일관성\n",
    "- 데이터 의존성"
   ]
  },
  {
   "cell_type": "markdown",
   "metadata": {},
   "source": [
    "<span style=\"color:red\"><b>정답 : 데이터 의존성</b></span>\n",
    "\n",
    "```\n",
    "1. 데이터 무결성 : 데이터베이스가 정확한 데이터를 유지하고 있음을 의미, 제약조건에 맞지 않으면 아예 입력되지 않도록 방지하는 기능으로 무결성을 유지\n",
    "2. 데이터 보안성 : 계정관리등 데이터의 보안관련\n",
    "3. 데이터 일관성 : 데이터의 불일치성을 미리 방지하여 사용자에게 정확한 데이터 제공\n",
    "```"
   ]
  },
  {
   "cell_type": "markdown",
   "metadata": {},
   "source": [
    "[문제2]\n",
    "\n",
    "아래 설명에 해당하는 데이터 모델을 골라주세요\n",
    "\n",
    "```\n",
    "표 형태로 데이터를 저장하고 SQL을 사용하여 데이터를 조작합니다. \n",
    "가장 널리 사용되는 데이터 모델 중 하나이며 RDBMS에서 지원합니다.\n",
    "```\n",
    "\n",
    "- 관계형 데이터 모델\n",
    "- 객체 지향형 데이터 모델\n",
    "- 계층형 데이터 모델\n",
    "- 네트워크형 데이터 모델"
   ]
  },
  {
   "cell_type": "markdown",
   "metadata": {},
   "source": [
    "<span style=\"color:red\"><b>정답 :관계형 데이터 모델</b></span>\n",
    "\n",
    "```\n",
    "1. 객체 지향형 데이터 모델 : 현실의 객체와 데이터베이스 안의 객체간의 상호작용을 바탕으로 모델링한 데이터 모델\n",
    "2. 계층형 데이터 모델 : 트리 형태의 논리적 구조를 가지고, 개체는 트리의 노드로 표현하는 데이터 모델\n",
    "3. 네트워크형 데이터 모델 : 구조가 네트워크처럼 망형태로 각 레코드간의 연결을 용이하게 만든 데이터 모델\n",
    "```"
   ]
  },
  {
   "cell_type": "markdown",
   "metadata": {},
   "source": [
    "[문제3]\n",
    "\n",
    "데이터베이스의 구조를 정의하는 것을 골라주세요\n",
    "\n",
    "- 인덱스\n",
    "- 트랜잭션\n",
    "- 스키마\n",
    "- SQL"
   ]
  },
  {
   "cell_type": "markdown",
   "metadata": {},
   "source": [
    "<span style=\"color:red\"><b>정답 :스키마</b></span>\n",
    "\n",
    "```\n",
    "1. 인덱스(Index) : DB안에서의 검색 속도를 증가시키는 객체\n",
    "2. 트랜잭션(Transaction) : DB의 상태를 변경하는 작업 단위, 한꺼번에 수행될 연산을 모아놓은 것\n",
    "3. SQL : DB 관리를 위한 프로그래밍 언어\n",
    "```"
   ]
  },
  {
   "cell_type": "markdown",
   "metadata": {},
   "source": [
    "[문제4]\n",
    "\n",
    "RDBMS의 대표적인 단점이 아닌것을 골라주세요\n",
    "\n",
    "- 실시간 데이터 처리의 어려움\n",
    "- 운영 비용이 비쌈\n",
    "- 테이블 join의 복잡성\n",
    "- 미리 만들어진 스키마 구조를 변경 또는 확장하는데 어려움\n",
    "- 대량의 데이터를 저장하는게 어려움"
   ]
  },
  {
   "cell_type": "markdown",
   "metadata": {},
   "source": [
    "<span style=\"color:red\"><b>정답 :대량의 데이터를 저장하는게 어려움</b></span>"
   ]
  },
  {
   "cell_type": "markdown",
   "metadata": {},
   "source": [
    "[문제5]\n",
    "\n",
    "RDBMS의 구성 요소 중 고유한 값을 나타내는 것을 골라주세요\n",
    "\n",
    "- column\n",
    "- row\n",
    "- FK\n",
    "- PK"
   ]
  },
  {
   "cell_type": "markdown",
   "metadata": {},
   "source": [
    "<span style=\"color:red\"><b>정답 :PK(Primary Key)</b></span>\n",
    "\n",
    "```\n",
    "1. Column(행) : 테이블 내 특정 카테고리나 데이터 유형\n",
    "2. Row(열) : 테이블에 담긴 개별 데이터, 레코드(Record)라고도 함\n",
    "3. FK(Foreign Key) : 다른 테이블 PK를 참조하기 위한 키\n",
    "```"
   ]
  },
  {
   "cell_type": "markdown",
   "metadata": {},
   "source": [
    "[문제6]\n",
    "\n",
    "대표적인 RDBMS가 아닌것을 골라주세요\n",
    "\n",
    "- SQLite\n",
    "- Oracle Database\n",
    "- PostgreSQL\n",
    "- Firebase"
   ]
  },
  {
   "cell_type": "markdown",
   "metadata": {},
   "source": [
    "<span style=\"color:red\"><b>정답 :Firebase</b></span>"
   ]
  },
  {
   "cell_type": "markdown",
   "metadata": {},
   "source": [
    "[문제7]\n",
    "\n",
    "물리적 스키마란 무엇을 의마하는지 골라주세요\n",
    "\n",
    "- 데이터베이스 논리적 구조\n",
    "- 데이터베이스 물리적 저장 방식\n",
    "- 데이터베이스 사용자 뷰\n",
    "- 데이터베이스의 엑세스 권한"
   ]
  },
  {
   "cell_type": "markdown",
   "metadata": {},
   "source": [
    "<span style=\"color:red\"><b>정답 :데이터베이스 물리적 저장 방식</b></span>\n",
    "\n",
    "```\n",
    "1. 데이터베이스 논리적 구조 - 논리적 스키마\n",
    "2. 데이터베이스 사용자 뷰 - 논리적 스키마\n",
    "3. 데이터베이스의 엑세스 권한 - 논리적 스키마\n",
    "```"
   ]
  },
  {
   "cell_type": "markdown",
   "metadata": {},
   "source": [
    "[문제8]\n",
    "\n",
    "SQL 언어에 해당하지 않는 것을 골라주세요\n",
    "\n",
    "- 데이터 처리 언어(DML)\n",
    "- 데이터 제어 언어(DCL)\n",
    "- 데이터 연결 언어(DCL)\n",
    "- 데이터 정의 언어(DDL)"
   ]
  },
  {
   "cell_type": "markdown",
   "metadata": {},
   "source": [
    "<span style=\"color:red\"><b>정답 :데이터 연결 언어(DCL)</b></span>\n",
    "\n",
    "```\n",
    "1. 데이터 처리 언어(DML) : DB에 입력된 레코드를 조회, 수정, 삭제하는 언어\n",
    "2. 데이터 제어 언어(DCL) : DB에 접근하는 객체에 권한을 주는 언어\n",
    "3. 디이터 정의 언어(DDL) : DB를 정의하는 골격을 결정하는 언어\n",
    "```"
   ]
  },
  {
   "cell_type": "markdown",
   "metadata": {},
   "source": [
    "[문제9]\n",
    "\n",
    "데이터 처리 언어(DML)의 설명으로 틀린것을 골라주세요\n",
    "\n",
    "- select : 데이터베이스에서 정보를 검색\n",
    "- insert : 새로운 데이터를 테이블에 삽입\n",
    "- count : 테이블의 데이터 개수 확인\n",
    "- delete : 테이블에서 데이터를 삭제"
   ]
  },
  {
   "cell_type": "markdown",
   "metadata": {},
   "source": [
    "<span style=\"color:red\"><b>정답 :count</b></span>"
   ]
  },
  {
   "cell_type": "markdown",
   "metadata": {},
   "source": [
    "[문제10]\n",
    "\n",
    "데이터 제어 언어(DCL)인 GRANT에 대한 설명으로 옳은 것을 골라주세요\n",
    "\n",
    "- 사용자에게 특정 작업을 수행할 권한을 부여한다.\n",
    "- 사용자로부터 특정 작업 수행 권항을 제거한다.\n",
    "- 다른 사용자에게 동일한 권한을 전달할때 사용한다.\n",
    "- 부여된 권한 중 일부를 제한할때 사용한다."
   ]
  },
  {
   "cell_type": "markdown",
   "metadata": {},
   "source": [
    "<span style=\"color:red\"><b>정답 :사용자에게 특정 작업을 수행할 권한을 부여한다.</b></span>\n",
    "\n",
    "```\n",
    "1. revoke : 사용자로부터 특정 작업 수행 권한을 제거한다.\n",
    "```"
   ]
  }
 ],
 "metadata": {
  "language_info": {
   "name": "python"
  }
 },
 "nbformat": 4,
 "nbformat_minor": 2
}
