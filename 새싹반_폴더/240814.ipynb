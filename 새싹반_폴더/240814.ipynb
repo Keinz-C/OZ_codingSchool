{
 "cells": [
  {
   "cell_type": "markdown",
   "metadata": {},
   "source": [
    "비교를 위해서 'is'나 '=='를 많이 쓰는데, 값이 커질수록 'is'보다는 '=='을 사용하는 것이 좋다."
   ]
  },
  {
   "cell_type": "markdown",
   "metadata": {},
   "source": [
    "###input 사용법\n",
    "\n",
    "s = input(\"입력을 해주세요\")\n",
    "int, float, str을 입력으로 받을 때 변환하는 변환형으로 쓴다.\n",
    "list로 받기 위해서는 아래와 같이 작성한다.\n",
    "l = list(map(lambda x: int(x), input().split(\",\")))"
   ]
  },
  {
   "cell_type": "markdown",
   "metadata": {},
   "source": []
  }
 ],
 "metadata": {
  "language_info": {
   "name": "python"
  }
 },
 "nbformat": 4,
 "nbformat_minor": 2
}
