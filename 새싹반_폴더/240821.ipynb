{
 "cells": [
  {
   "cell_type": "code",
   "execution_count": 2,
   "metadata": {},
   "outputs": [
    {
     "data": {
      "text/plain": [
       "'ab'"
      ]
     },
     "execution_count": 2,
     "metadata": {},
     "output_type": "execute_result"
    }
   ],
   "source": [
    "d= {(1,2,3):\"ab\"}\n",
    "d[(1,2,3)]\n",
    "\n",
    "# 딕셔너리 안에서 list는 해셔너블 한 값이 아닌, 변할 수 있는 값이기에 넣지 못하지만, 튜플로 넣을 경우에는 불변 객체이기 때문에 딕녀서니에 추가하여 키로 사용할 수 있다."
   ]
  },
  {
   "cell_type": "markdown",
   "metadata": {},
   "source": [
    "Redis는 요즘 데이터베이스에서 사용하는 방법이고, 디스크에 저장하지 않기 때문에 데이터가 영구적이지 않음.(부차적으로 저장이 가능하긴 함)\n",
    "메모리에 저장하는 것은 영구적이지 않기에 속도는 빠르지만, 안전하지 않을 수 있다."
   ]
  },
  {
   "cell_type": "markdown",
   "metadata": {},
   "source": [
    "제너레이터는 이터레이터의 특수한 경우이다.\n",
    "이터레이터는 반복만 할 수 있다면 전부 이터레이터이다.(list 등)\n",
    "\n",
    "제너레이터는 레이지 팩토리를 생성하는 느낌이다.\n",
    "yield로 다음 것을 가져올 수 있다면 전부 제너레이터라고 한다. 메모리 차지가 크지 않아서 매우 유용하다."
   ]
  },
  {
   "cell_type": "markdown",
   "metadata": {},
   "source": [
    "파이썬에서 메모리 관리를 해주기 때문에 신경을 조금은 덜 쓰면서 작업할 수 있다.\n",
    "그래도 효율적인 코딩을 위해 내부구조를 이해하며 코드를 작성해 나가는 것이 추천된다."
   ]
  },
  {
   "cell_type": "markdown",
   "metadata": {},
   "source": [
    "힙과 스택은 os에 따라 다르게 할당된다.\n"
   ]
  },
  {
   "cell_type": "markdown",
   "metadata": {},
   "source": [
    "기본 예외 처리는 가능하다면 if문으로 처리하는 것이 좋다.\n",
    "기업을 고를 때 트래픽을 확인하는 것이 좋다.(내가 담당하고 있는 서비스에서 단위 시간당 요청이 얼마나 들어왔는지)\n",
    "기업이 트래픽을 많이 다루는 회사.\n",
    "작은 기업이라면 서비스가 탄탄하거나 성장 가능성이 있는지.\n",
    "\n",
    "정통적인 백엔드 개발자는 파이썬 뿐만 아니라 java, spring 공부가 필요\n",
    "파이썬은 머신러닝에서 많이 사용 mlops로 갈 수 있음."
   ]
  }
 ],
 "metadata": {
  "kernelspec": {
   "display_name": "Python 3",
   "language": "python",
   "name": "python3"
  },
  "language_info": {
   "codemirror_mode": {
    "name": "ipython",
    "version": 3
   },
   "file_extension": ".py",
   "mimetype": "text/x-python",
   "name": "python",
   "nbconvert_exporter": "python",
   "pygments_lexer": "ipython3",
   "version": "3.9.6"
  }
 },
 "nbformat": 4,
 "nbformat_minor": 2
}
